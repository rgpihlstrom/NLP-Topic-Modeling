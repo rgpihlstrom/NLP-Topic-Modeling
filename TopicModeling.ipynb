{
 "cells": [
  {
   "cell_type": "markdown",
   "metadata": {},
   "source": [
    "# Libraries"
   ]
  },
  {
   "cell_type": "code",
   "execution_count": 202,
   "metadata": {},
   "outputs": [],
   "source": [
    "import numpy as np\n",
    "import pandas as pd\n",
    "import seaborn as sns\n",
    "%matplotlib inline\n",
    "import nltk\n",
    "from nltk.util import ngrams\n",
    "from nltk import word_tokenize\n",
    "\n",
    "# from nltk.corpus import stopwords\n",
    "# stop_words = stopwords.words('english')\n",
    "import warnings\n",
    "\n",
    "import gensim\n",
    "import gensim.corpora as corpora\n",
    "from gensim.models import TfidfModel\n",
    "from gensim.corpora import Dictionary\n",
    "\n",
    "import pyLDAvis\n",
    "pyLDAvis.enable_notebook()\n",
    "import pyLDAvis.gensim as gensimvis\n",
    "import matplotlib.pyplot as plt\n",
    "from wordcloud import WordCloud\n",
    "\n",
    "\n",
    "# from gensim.utils import simple_preprocess\n",
    "from gensim.models import CoherenceModel, LdaMulticore\n",
    "from collections import Counter\n",
    "from itertools import chain\n",
    "\n",
    "# from sklearn.pipeline import Pipeline\n",
    "# from imblearn.pipeline import Pipeline\n",
    "\n",
    "# import matplotlib.ticker as ticker\n",
    "# import matplotlib.ticker as mtick\n",
    "\n",
    "from gensim.models.phrases import Phrases, Phraser\n",
    "from collections import defaultdict  # For word frequency\n",
    "from textblob import TextBlob\n",
    "\n",
    "\n",
    "# spacy for lemmatization\n",
    "import spacy\n",
    "nlp = spacy.load('en_core_web_lg')\n",
    "\n",
    "# Sklearn\n",
    "# from sklearn.decomposition import LatentDirichletAllocation, TruncatedSVD\n",
    "from sklearn.feature_extraction.text import CountVectorizer, TfidfVectorizer,TfidfTransformer\n",
    "# from sklearn.model_selection import GridSearchCV\n",
    "# from pprint import pprint\n",
    "\n",
    "\n",
    "# libraries for visualization\n",
    "\n",
    "import pickle\n",
    "\n",
    "pd.set_option(\"max_rows\", 1000)\n",
    "pd.set_option('display.width', None)\n",
    "pd.set_option('max_columns', None)\n",
    "pd.set_option('max_colwidth', 200)\n",
    "warnings.filterwarnings(\"ignore\",category=DeprecationWarning)\n",
    "\n"
   ]
  },
  {
   "cell_type": "code",
   "execution_count": 203,
   "metadata": {},
   "outputs": [],
   "source": [
    "with open('df_reviews.pickle', 'rb') as f:\n",
    "    df_reviews = pickle.load(f)\n",
    "\n",
    "with open('df_reviews_P.pickle', 'rb') as f:\n",
    "    df_reviews_P = pickle.load(f)\n",
    "\n",
    "\n",
    "with open('df_reviews_N.pickle', 'rb') as f:\n",
    "    df_reviews_N = pickle.load(f)\n"
   ]
  },
  {
   "cell_type": "code",
   "execution_count": 204,
   "metadata": {},
   "outputs": [],
   "source": [
    "# df_reviews_Find = df_reviews[df_reviews['TextClean4'].str.contains(\" omg \")][['Text','TextClean4']]\n",
    "# df_reviews_Find"
   ]
  },
  {
   "cell_type": "markdown",
   "metadata": {},
   "source": [
    "# Support Functions"
   ]
  },
  {
   "cell_type": "code",
   "execution_count": 205,
   "metadata": {},
   "outputs": [],
   "source": [
    "def create_DictionaryAndDocTermMatrix (df_review_Col):\n",
    "    doc_clean_tokenized_Lem = [review.split() for review in df_review_Col]\n",
    "    corpus_dictionary = Dictionary(doc_clean_tokenized_Lem)\n",
    "    doc_term_matrix = [corpus_dictionary.doc2bow(doc, allow_update=True) for doc in doc_clean_tokenized_Lem]\n",
    "    tfidf  = TfidfModel(doc_term_matrix, smartirs='ntc',id2word=corpus_dictionary)\n",
    "    doc_term_matrix_tfidf = tfidf[doc_term_matrix]\n",
    "    return doc_clean_tokenized_Lem, corpus_dictionary, doc_term_matrix_tfidf\n",
    "\n",
    "def createLDAFromTFIDF(corpus_tfidf, NumbOfTopics, corpus_dictionary):\n",
    "    lda_model_tfidf = LdaMulticore(corpus_tfidf, num_topics=NumbOfTopics, \n",
    "                                   id2word=corpus_dictionary,\n",
    "                                   \n",
    "                                   minimum_probability=.3,  # -.4  best .2 so far, null nothing great, .6 notthing big\n",
    "                                   \n",
    "                                   random_state=100,\n",
    "#                                    eval_every=15, #1 not good no better than leveling at default\n",
    "                                   chunksize=50, #100, 15 not good, 50, 75, 100 - good, 300 - good but bad pyl\n",
    "\n",
    "                                   #passes=30,\n",
    "                                   passes=50,\n",
    "                                   alpha='asymmetric', # 'asymmetric', 1 - really bad - 15 no better\n",
    "                                   \n",
    "                                   decay = .02, # .01, 1\n",
    "                                   #per_word_topics=True, \n",
    "                                   #eta=1 #.01 or 1- not great\n",
    "                                  )\n",
    "    return lda_model_tfidf\n",
    "\n",
    "\n",
    "def create_Lda_Models(doc_term_matrix_tfidf, doc_clean_tokenized_Lem, corpus_dictionary):\n",
    "    #Create dataframe to house lDA Modles\n",
    "    df_ModelInfo = pd.DataFrame(columns=[\"ModelName\",\"Model\", \"NumberOfTopics\", \"Coherence\"])\n",
    "    #Set Lmits to Test & Evaluate Models\n",
    "    limit=8; start=4; step=1;\n",
    "\n",
    "    # LDAModles = [\"ldaBOW\", \"ldatfidf\", \"ldaMallet\"]\n",
    "    LDAModles = [\"ldatfidf\"]\n",
    "    # LDAModles = [\"ldaBOW\"]\n",
    "    for ldaModel in LDAModles:\n",
    "\n",
    "        #Create Models\n",
    "        for num_topics in range(start, limit, step):\n",
    "                df_ModelInfo = df_ModelInfo.append({'ModelName':ldaModel,'Model':createLDAFromTFIDF(doc_term_matrix_tfidf, num_topics,corpus_dictionary ), 'NumberOfTopics': num_topics} ,ignore_index = True)\n",
    "\n",
    "        # Calculate & Collect Perplexity and Coherence Scores\n",
    "\n",
    "        Coherence_values = []\n",
    "        for index, row in df_ModelInfo.iterrows():\n",
    "            coscore = evaluateCoherenceLDA(row[\"Model\"], doc_clean_tokenized_Lem, corpus_dictionary)\n",
    "            Coherence_values.append(coscore)\n",
    "\n",
    "        df_ModelInfo[\"Coherence\"] = Coherence_values\n",
    "    return df_ModelInfo\n",
    "\n",
    "\n",
    "def create_Lda_Models_short(doc_term_matrix_tfidf, doc_clean_tokenized_Lem, corpus_dictionary):\n",
    "    #Create dataframe to house lDA Modles\n",
    "    df_ModelInfo = pd.DataFrame(columns=[\"ModelName\",\"Model\", \"NumberOfTopics\", \"Coherence\"])\n",
    "    #Set Lmits to Test & Evaluate Models\n",
    "    limit=4; start=2; step=1;\n",
    "\n",
    "    # LDAModles = [\"ldaBOW\", \"ldatfidf\", \"ldaMallet\"]\n",
    "    LDAModles = [\"ldatfidf\"]\n",
    "    # LDAModles = [\"ldaBOW\"]\n",
    "    for ldaModel in LDAModles:\n",
    "\n",
    "        #Create Models\n",
    "        for num_topics in range(start, limit, step):\n",
    "                df_ModelInfo = df_ModelInfo.append({'ModelName':ldaModel,'Model':createLDAFromTFIDF(doc_term_matrix_tfidf, num_topics,corpus_dictionary ), 'NumberOfTopics': num_topics} ,ignore_index = True)\n",
    "\n",
    "        # Calculate & Collect Perplexity and Coherence Scores\n",
    "\n",
    "        Coherence_values = []\n",
    "        for index, row in df_ModelInfo.iterrows():\n",
    "            coscore = evaluateCoherenceLDA(row[\"Model\"], doc_clean_tokenized_Lem, corpus_dictionary)\n",
    "            Coherence_values.append(coscore)\n",
    "\n",
    "        df_ModelInfo[\"Coherence\"] = Coherence_values\n",
    "    return df_ModelInfo\n",
    "\n",
    "\n",
    "def evaluateCoherenceLDA(ldaModelToEvaluate, doc_clean_tokenized_Lem, corpus_dictionary):\n",
    "    #https://stackoverflow.com/questions/54762690/coherence-score-0-4-is-good-or-bad\n",
    "    coherencemodel = CoherenceModel(model=ldaModelToEvaluate, texts=doc_clean_tokenized_Lem, dictionary=corpus_dictionary, coherence='c_v')\n",
    "    Coherence = coherencemodel.get_coherence()\n",
    "    return Coherence\n",
    "\n",
    "\n",
    "def removelowfrequenceywords(doc_clean_tokenized, i):\n",
    "    frequency = defaultdict(int)\n",
    "    for text in doc_clean_tokenized:\n",
    "        for token in text:\n",
    "            frequency[token] += 1\n",
    "    # Only keep words that appear more than ? insert\n",
    "    doc_clean_tokenized = [[token for token in text if frequency[token] > i] for text in doc_clean_tokenized]\n",
    "    \n",
    "    return doc_clean_tokenized\n",
    "\n",
    "def get_top_topic_per_review(ldamodel, corpus, texts):\n",
    "    '''ldamodel = the current model, corpus = doc_term_matrix, text = ls_of_textToUse'''\n",
    "    # Match reviews to dominate Topics\n",
    "    sent_topics_df = pd.DataFrame()\n",
    "\n",
    "    # Get main topic in each document\n",
    "    for i, row in enumerate(ldamodel[doc_term_matrix]):\n",
    "        row = sorted(row, key=lambda x: (x[1]), reverse=True)\n",
    "        \n",
    "        # Get the Dominant topic, Perc Contribution and Keywords for each document\n",
    "        for j, (topic_num, prop_topic) in enumerate(row):\n",
    "            if j == 0:  # => dominant topic\n",
    "                wp = ldamodel.show_topic(topic_num)\n",
    "                topic_keywords = \", \".join([word for word, prop in wp])\n",
    "                sent_topics_df = sent_topics_df.append(pd.Series([int(topic_num), round(prop_topic,4), topic_keywords]), ignore_index=True)\n",
    "            else:\n",
    "                break\n",
    "    sent_topics_df.columns = ['Dominant_Topic', 'Perc_Contribution', 'Topic_Keywords']\n",
    "\n",
    "    # Add original text to the end of the output\n",
    "    contents = pd.Series(texts)\n",
    "    sent_topics_df = pd.concat([sent_topics_df, contents], axis=1)\n",
    "    return(sent_topics_df)"
   ]
  },
  {
   "cell_type": "markdown",
   "metadata": {},
   "source": [
    "# Modeling"
   ]
  },
  {
   "cell_type": "code",
   "execution_count": 206,
   "metadata": {},
   "outputs": [
    {
     "data": {
      "text/html": [
       "<div>\n",
       "<style scoped>\n",
       "    .dataframe tbody tr th:only-of-type {\n",
       "        vertical-align: middle;\n",
       "    }\n",
       "\n",
       "    .dataframe tbody tr th {\n",
       "        vertical-align: top;\n",
       "    }\n",
       "\n",
       "    .dataframe thead th {\n",
       "        text-align: right;\n",
       "    }\n",
       "</style>\n",
       "<table border=\"1\" class=\"dataframe\">\n",
       "  <thead>\n",
       "    <tr style=\"text-align: right;\">\n",
       "      <th></th>\n",
       "      <th>Text</th>\n",
       "      <th>TextClean4</th>\n",
       "    </tr>\n",
       "  </thead>\n",
       "  <tbody>\n",
       "  </tbody>\n",
       "</table>\n",
       "</div>"
      ],
      "text/plain": [
       "Empty DataFrame\n",
       "Columns: [Text, TextClean4]\n",
       "Index: []"
      ]
     },
     "execution_count": 206,
     "metadata": {},
     "output_type": "execute_result"
    }
   ],
   "source": [
    "df_reviews_Find = df_reviews[df_reviews['TextClean4'].str.contains(\" boca \")][['Text','TextClean4']]\n",
    "# df_reviews_Fi\n",
    "df_reviews_Find"
   ]
  },
  {
   "cell_type": "markdown",
   "metadata": {},
   "source": [
    "## All Reviews"
   ]
  },
  {
   "cell_type": "code",
   "execution_count": 207,
   "metadata": {
    "scrolled": true
   },
   "outputs": [
    {
     "data": {
      "text/html": [
       "<div>\n",
       "<style scoped>\n",
       "    .dataframe tbody tr th:only-of-type {\n",
       "        vertical-align: middle;\n",
       "    }\n",
       "\n",
       "    .dataframe tbody tr th {\n",
       "        vertical-align: top;\n",
       "    }\n",
       "\n",
       "    .dataframe thead th {\n",
       "        text-align: right;\n",
       "    }\n",
       "</style>\n",
       "<table border=\"1\" class=\"dataframe\">\n",
       "  <thead>\n",
       "    <tr style=\"text-align: right;\">\n",
       "      <th></th>\n",
       "      <th>ModelName</th>\n",
       "      <th>Model</th>\n",
       "      <th>NumberOfTopics</th>\n",
       "      <th>Coherence</th>\n",
       "    </tr>\n",
       "  </thead>\n",
       "  <tbody>\n",
       "    <tr>\n",
       "      <th>0</th>\n",
       "      <td>ldatfidf</td>\n",
       "      <td>LdaModel(num_terms=366, num_topics=4, decay=0.02, chunksize=50)</td>\n",
       "      <td>4</td>\n",
       "      <td>0.459288</td>\n",
       "    </tr>\n",
       "    <tr>\n",
       "      <th>1</th>\n",
       "      <td>ldatfidf</td>\n",
       "      <td>LdaModel(num_terms=366, num_topics=5, decay=0.02, chunksize=50)</td>\n",
       "      <td>5</td>\n",
       "      <td>0.524011</td>\n",
       "    </tr>\n",
       "    <tr>\n",
       "      <th>2</th>\n",
       "      <td>ldatfidf</td>\n",
       "      <td>LdaModel(num_terms=366, num_topics=6, decay=0.02, chunksize=50)</td>\n",
       "      <td>6</td>\n",
       "      <td>0.476567</td>\n",
       "    </tr>\n",
       "    <tr>\n",
       "      <th>3</th>\n",
       "      <td>ldatfidf</td>\n",
       "      <td>LdaModel(num_terms=366, num_topics=7, decay=0.02, chunksize=50)</td>\n",
       "      <td>7</td>\n",
       "      <td>0.457514</td>\n",
       "    </tr>\n",
       "  </tbody>\n",
       "</table>\n",
       "</div>"
      ],
      "text/plain": [
       "  ModelName                                                            Model  \\\n",
       "0  ldatfidf  LdaModel(num_terms=366, num_topics=4, decay=0.02, chunksize=50)   \n",
       "1  ldatfidf  LdaModel(num_terms=366, num_topics=5, decay=0.02, chunksize=50)   \n",
       "2  ldatfidf  LdaModel(num_terms=366, num_topics=6, decay=0.02, chunksize=50)   \n",
       "3  ldatfidf  LdaModel(num_terms=366, num_topics=7, decay=0.02, chunksize=50)   \n",
       "\n",
       "  NumberOfTopics  Coherence  \n",
       "0              4   0.459288  \n",
       "1              5   0.524011  \n",
       "2              6   0.476567  \n",
       "3              7   0.457514  "
      ]
     },
     "execution_count": 207,
     "metadata": {},
     "output_type": "execute_result"
    }
   ],
   "source": [
    "doc_clean_tokenized_Lem, corpus_dictionary, doc_term_matrix_tfidf,  = create_DictionaryAndDocTermMatrix(df_reviews[\"TextClean4\"])\n",
    "df_ModelInfo = create_Lda_Models(doc_term_matrix_tfidf, doc_clean_tokenized_Lem, corpus_dictionary)\n",
    "df_ModelInfo"
   ]
  },
  {
   "cell_type": "code",
   "execution_count": 208,
   "metadata": {
    "scrolled": true
   },
   "outputs": [
    {
     "name": "stdout",
     "output_type": "stream",
     "text": [
      "Total Rows All Reviews Df: 1816\n",
      "Total Rows All Reviews Token List: 1816\n",
      "Total Rows All Reviews TFIDF: 1816\n"
     ]
    }
   ],
   "source": [
    "print(f'Total Rows All Reviews Df: {len(df_reviews)}')\n",
    "print(f'Total Rows All Reviews Token List: {len(doc_clean_tokenized_Lem)}')\n",
    "# print(f'Total Rows All Reviews Dic: {len(corpus_dictionary_P)}')\n",
    "print(f'Total Rows All Reviews TFIDF: {len(doc_term_matrix_tfidf)}')  "
   ]
  },
  {
   "cell_type": "code",
   "execution_count": null,
   "metadata": {},
   "outputs": [],
   "source": []
  },
  {
   "cell_type": "code",
   "execution_count": 239,
   "metadata": {
    "scrolled": false
   },
   "outputs": [
    {
     "data": {
      "text/plain": [
       "[(0,\n",
       "  '0.020*\"like\" + 0.019*\"good\" + 0.019*\"meat\" + 0.017*\"taste\" + 0.017*\"vegan\" + 0.016*\"cook\" + 0.016*\"red_meat\" + 0.016*\"flavor\" + 0.016*\"price\" + 0.016*\"texture\"'),\n",
       " (1,\n",
       "  '0.082*\"perfect\" + 0.062*\"recipe\" + 0.050*\"skeptical\" + 0.043*\"weird\" + 0.038*\"convenient\" + 0.036*\"smell_like\" + 0.034*\"aftertaste\" + 0.032*\"wait\" + 0.027*\"smell_bad\" + 0.026*\"continue\"'),\n",
       " (2,\n",
       "  '0.059*\"realize\" + 0.055*\"crispy\" + 0.046*\"science\" + 0.036*\"fiber\" + 0.027*\"no_idea\" + 0.026*\"outside\" + 0.025*\"digest\" + 0.025*\"scare\" + 0.024*\"inside\" + 0.023*\"wonder\"'),\n",
       " (3,\n",
       "  '0.074*\"oil\" + 0.057*\"water\" + 0.057*\"color\" + 0.040*\"body\" + 0.035*\"juice\" + 0.028*\"coconut\" + 0.028*\"unique\" + 0.026*\"contain\" + 0.025*\"vegetable\" + 0.025*\"break\"')]"
      ]
     },
     "execution_count": 239,
     "metadata": {},
     "output_type": "execute_result"
    }
   ],
   "source": [
    "# Select the model and print the topics\n",
    "optimal_model = df_ModelInfo[(df_ModelInfo[\"ModelName\"] == \"ldatfidf\") & (df_ModelInfo[\"NumberOfTopics\"]==4)][\"Model\"].values[0]\n",
    "optimal_model.print_topics()"
   ]
  },
  {
   "cell_type": "code",
   "execution_count": 240,
   "metadata": {
    "scrolled": false
   },
   "outputs": [
    {
     "data": {
      "text/html": [
       "\n",
       "<link rel=\"stylesheet\" type=\"text/css\" href=\"https://cdn.rawgit.com/bmabey/pyLDAvis/files/ldavis.v1.0.0.css\">\n",
       "\n",
       "\n",
       "<div id=\"ldavis_el157121890942713744649239031\"></div>\n",
       "<script type=\"text/javascript\">\n",
       "\n",
       "var ldavis_el157121890942713744649239031_data = {\"mdsDat\": {\"x\": [0.12971643418957868, 0.1419536841058468, -0.11939557938082501, -0.15227453891460047], \"y\": [-0.200595887965237, 0.23899956746743736, 0.06760052246843884, -0.10600420197063917], \"topics\": [1, 2, 3, 4], \"cluster\": [1, 1, 1, 1], \"Freq\": [76.06666564941406, 11.931296348571777, 6.483487129211426, 5.518546104431152]}, \"tinfo\": {\"Term\": [\"perfect\", \"recipe\", \"oil\", \"skeptical\", \"realize\", \"weird\", \"crispy\", \"color\", \"water\", \"convenient\", \"like\", \"good\", \"meat\", \"taste\", \"vegan\", \"red_meat\", \"cook\", \"texture\", \"beef\", \"family\", \"flavor\", \"price\", \"perfect\", \"recipe\", \"skeptical\", \"weird\", \"convenient\", \"smell_like\", \"aftertaste\", \"wait\", \"continue\", \"ground_beef\", \"smell_bad\", \"realize\", \"crispy\", \"no_idea\", \"outside\", \"scare\", \"science\", \"digest\", \"wonder\", \"fiber\", \"mouth_feel\", \"inside\", \"oil\", \"water\", \"body\", \"juice\", \"coconut\", \"contain\", \"vegetable\", \"break\", \"unique\", \"impressive\", \"color\"], \"Freq\": [50.0, 38.0, 21.0, 31.0, 20.0, 27.0, 19.0, 19.0, 16.0, 24.0, 78.40357971191406, 74.02685546875, 73.04475402832031, 64.74075317382812, 63.56835174560547, 62.11549758911133, 62.13550567626953, 60.933353424072266, 60.836181640625, 60.456512451171875, 62.02000045776367, 61.2650260925293, 49.31718063354492, 37.222999572753906, 29.92133140563965, 26.054094314575195, 23.044246673583984, 21.680744171142578, 20.577987670898438, 19.120264053344727, 15.744834899902344, 15.705211639404297, 16.097503662109375, 19.39667320251465, 18.09320068359375, 8.828038215637207, 8.429314613342285, 8.08708667755127, 15.012213706970215, 8.333108901977539, 7.6841511726379395, 11.779823303222656, 7.496860980987549, 7.894275188446045, 20.636266708374023, 15.834676742553711, 11.056410789489746, 9.915584564208984, 7.846181869506836, 7.334033489227295, 7.082822799682617, 7.074306964874268, 7.793489456176758, 5.287920951843262, 15.817358016967773], \"Total\": [50.0, 38.0, 21.0, 31.0, 20.0, 27.0, 19.0, 19.0, 16.0, 24.0, 79.67036437988281, 75.29573059082031, 74.30501556396484, 65.99874114990234, 64.83866119384766, 63.374969482421875, 63.40689468383789, 62.1933708190918, 62.10610580444336, 61.7257080078125, 63.334598541259766, 62.63652420043945, 50.435245513916016, 38.33998489379883, 31.04574203491211, 27.283323287963867, 24.17302703857422, 22.812650680541992, 21.732776641845703, 20.245698928833008, 16.855894088745117, 16.814029693603516, 18.348222732543945, 20.32770347595215, 19.00450325012207, 9.743021011352539, 9.347606658935547, 9.016085624694824, 16.765377044677734, 9.306578636169434, 8.595953941345215, 13.30367374420166, 8.466752052307129, 12.136643409729004, 21.7077579498291, 16.906692504882812, 12.12477970123291, 10.971070289611816, 8.904496192932129, 8.406883239746094, 8.139993667602539, 8.147594451904297, 9.055880546569824, 6.353329658508301, 19.126033782958984], \"Category\": [\"Default\", \"Default\", \"Default\", \"Default\", \"Default\", \"Default\", \"Default\", \"Default\", \"Default\", \"Default\", \"Topic1\", \"Topic1\", \"Topic1\", \"Topic1\", \"Topic1\", \"Topic1\", \"Topic1\", \"Topic1\", \"Topic1\", \"Topic1\", \"Topic1\", \"Topic1\", \"Topic2\", \"Topic2\", \"Topic2\", \"Topic2\", \"Topic2\", \"Topic2\", \"Topic2\", \"Topic2\", \"Topic2\", \"Topic2\", \"Topic2\", \"Topic3\", \"Topic3\", \"Topic3\", \"Topic3\", \"Topic3\", \"Topic3\", \"Topic3\", \"Topic3\", \"Topic3\", \"Topic3\", \"Topic3\", \"Topic4\", \"Topic4\", \"Topic4\", \"Topic4\", \"Topic4\", \"Topic4\", \"Topic4\", \"Topic4\", \"Topic4\", \"Topic4\", \"Topic4\"], \"logprob\": [10.0, 9.0, 8.0, 7.0, 6.0, 5.0, 4.0, 3.0, 2.0, 1.0, -3.8940999507904053, -3.9514999389648438, -3.964900016784668, -4.0854997634887695, -4.103799819946289, -4.1269001960754395, -4.1265997886657715, -4.146200180053711, -4.14769983291626, -4.1539998054504395, -4.128499984741211, -4.140699863433838, -2.505199909210205, -2.786600112915039, -3.0048999786376953, -3.1433000564575195, -3.2660999298095703, -3.3271000385284424, -3.379300117492676, -3.452699899673462, -3.6470000743865967, -3.6494998931884766, -3.624799966812134, -2.8285000324249268, -2.8980000019073486, -3.615600109100342, -3.661900043487549, -3.7032999992370605, -3.084700107574463, -3.67330002784729, -3.7544000148773193, -3.327199935913086, -3.779099941253662, -3.727400064468384, -2.6054000854492188, -2.8701999187469482, -3.2293999195098877, -3.3382999897003174, -3.5724000930786133, -3.639899969100952, -3.674799919128418, -3.6760001182556152, -3.5790998935699463, -3.9670000076293945, -2.871299982070923], \"loglift\": [10.0, 9.0, 8.0, 7.0, 6.0, 5.0, 4.0, 3.0, 2.0, 1.0, 0.2574999928474426, 0.2565999925136566, 0.2565000057220459, 0.25429999828338623, 0.25380000472068787, 0.2535000145435333, 0.2533000111579895, 0.2531000077724457, 0.25290000438690186, 0.25279998779296875, 0.2526000142097473, 0.2513999938964844, 2.103600025177002, 2.096400022506714, 2.089099884033203, 2.079900026321411, 2.078200101852417, 2.0750999450683594, 2.0713999271392822, 2.0687999725341797, 2.057800054550171, 2.057800054550171, 1.9951000213623047, 2.688999891281128, 2.686800003051758, 2.6373000144958496, 2.632499933242798, 2.62719988822937, 2.625499963760376, 2.6254000663757324, 2.623800039291382, 2.614300012588501, 2.6142001152038574, 2.305799961090088, 2.846400022506714, 2.8315000534057617, 2.804800033569336, 2.7959001064300537, 2.7704999446868896, 2.760499954223633, 2.7578999996185303, 2.7558000087738037, 2.7469000816345215, 2.7135000228881836, 2.7070999145507812]}, \"token.table\": {\"Topic\": [2, 3, 1, 3, 3, 4, 3, 4, 3, 4, 1, 2, 3, 4, 3, 4, 2, 3, 2, 3, 1, 3, 3, 3, 1, 3, 1, 2, 3, 1, 3, 1, 3, 2, 3, 3, 4, 1, 2, 3, 3, 4, 1, 3, 1, 3, 3, 3, 3, 4, 3, 2, 3, 1, 3, 3, 2, 3, 1, 3, 3, 3, 4, 2, 3, 1, 2, 3, 2, 3, 1, 3, 1, 3, 3, 4, 1, 3, 3, 4, 2, 3, 3, 4, 2, 3, 3], \"Freq\": [0.9662824273109436, 0.046013448387384415, 0.9821900725364685, 0.016101475805044174, 0.08247572183609009, 0.9072329998016357, 0.12273561209440231, 0.8591492772102356, 0.11230281740427017, 0.8984225392341614, 0.05228475481271744, 0.10456950962543488, 0.05228475481271744, 0.836556077003479, 0.11895015090703964, 0.8326510190963745, 0.9492228627204895, 0.059326428920030594, 0.9514737129211426, 0.04136842116713524, 0.9778116345405579, 0.015771156176924706, 0.9471439123153687, 0.8596069812774658, 0.9720423221588135, 0.016200704500079155, 0.0751672089099884, 0.0751672089099884, 0.9020065069198608, 0.9789277911186218, 0.015789158642292023, 0.9827914237976074, 0.013280965387821198, 0.9515863060951233, 0.059474144130945206, 0.1573977768421173, 0.7869889140129089, 0.08239510655403137, 0.24718531966209412, 0.659160852432251, 0.09114880859851837, 0.9114881157875061, 0.9790340662002563, 0.012551718391478062, 0.9824370741844177, 0.013458041474223137, 0.8267633318901062, 0.9237381219863892, 0.04606648162007332, 0.967396080493927, 0.8558340668678284, 0.9715428352355957, 0.019827404990792274, 0.9738726615905762, 0.01596512645483017, 0.9346850514411926, 0.9650499224662781, 0.02608243003487587, 0.9783042073249817, 0.015779100358486176, 0.8873029947280884, 0.8947010040283203, 0.05964673310518265, 0.9663161039352417, 0.03221053630113602, 0.05450119078159332, 0.8720190525054932, 0.05450119078159332, 0.9643771648406982, 0.04383532702922821, 0.9848672747612, 0.015151804313063622, 0.9808119535446167, 0.016078883782029152, 0.11042548716068268, 0.8834038972854614, 0.9870654344558716, 0.015422897413372993, 0.1228502169251442, 0.8599515557289124, 0.9384709596633911, 0.04939320683479309, 0.05914817377924919, 0.9463707804679871, 0.95296311378479, 0.03665242716670036, 0.930670440196991], \"Term\": [\"aftertaste\", \"aftertaste\", \"beef\", \"beef\", \"body\", \"body\", \"break\", \"break\", \"coconut\", \"coconut\", \"color\", \"color\", \"color\", \"color\", \"contain\", \"contain\", \"continue\", \"continue\", \"convenient\", \"convenient\", \"cook\", \"cook\", \"crispy\", \"digest\", \"family\", \"family\", \"fiber\", \"fiber\", \"fiber\", \"flavor\", \"flavor\", \"good\", \"good\", \"ground_beef\", \"ground_beef\", \"impressive\", \"impressive\", \"inside\", \"inside\", \"inside\", \"juice\", \"juice\", \"like\", \"like\", \"meat\", \"meat\", \"mouth_feel\", \"no_idea\", \"oil\", \"oil\", \"outside\", \"perfect\", \"perfect\", \"price\", \"price\", \"realize\", \"recipe\", \"recipe\", \"red_meat\", \"red_meat\", \"scare\", \"science\", \"science\", \"skeptical\", \"skeptical\", \"smell_bad\", \"smell_bad\", \"smell_bad\", \"smell_like\", \"smell_like\", \"taste\", \"taste\", \"texture\", \"texture\", \"unique\", \"unique\", \"vegan\", \"vegan\", \"vegetable\", \"vegetable\", \"wait\", \"wait\", \"water\", \"water\", \"weird\", \"weird\", \"wonder\"]}, \"R\": 10, \"lambda.step\": 0.01, \"plot.opts\": {\"xlab\": \"PC1\", \"ylab\": \"PC2\"}, \"topic.order\": [1, 2, 3, 4]};\n",
       "\n",
       "function LDAvis_load_lib(url, callback){\n",
       "  var s = document.createElement('script');\n",
       "  s.src = url;\n",
       "  s.async = true;\n",
       "  s.onreadystatechange = s.onload = callback;\n",
       "  s.onerror = function(){console.warn(\"failed to load library \" + url);};\n",
       "  document.getElementsByTagName(\"head\")[0].appendChild(s);\n",
       "}\n",
       "\n",
       "if(typeof(LDAvis) !== \"undefined\"){\n",
       "   // already loaded: just create the visualization\n",
       "   !function(LDAvis){\n",
       "       new LDAvis(\"#\" + \"ldavis_el157121890942713744649239031\", ldavis_el157121890942713744649239031_data);\n",
       "   }(LDAvis);\n",
       "}else if(typeof define === \"function\" && define.amd){\n",
       "   // require.js is available: use it to load d3/LDAvis\n",
       "   require.config({paths: {d3: \"https://cdnjs.cloudflare.com/ajax/libs/d3/3.5.5/d3.min\"}});\n",
       "   require([\"d3\"], function(d3){\n",
       "      window.d3 = d3;\n",
       "      LDAvis_load_lib(\"https://cdn.rawgit.com/bmabey/pyLDAvis/files/ldavis.v1.0.0.js\", function(){\n",
       "        new LDAvis(\"#\" + \"ldavis_el157121890942713744649239031\", ldavis_el157121890942713744649239031_data);\n",
       "      });\n",
       "    });\n",
       "}else{\n",
       "    // require.js not available: dynamically load d3 & LDAvis\n",
       "    LDAvis_load_lib(\"https://cdnjs.cloudflare.com/ajax/libs/d3/3.5.5/d3.min.js\", function(){\n",
       "         LDAvis_load_lib(\"https://cdn.rawgit.com/bmabey/pyLDAvis/files/ldavis.v1.0.0.js\", function(){\n",
       "                 new LDAvis(\"#\" + \"ldavis_el157121890942713744649239031\", ldavis_el157121890942713744649239031_data);\n",
       "            })\n",
       "         });\n",
       "}\n",
       "</script>"
      ],
      "text/plain": [
       "<IPython.core.display.HTML object>"
      ]
     },
     "execution_count": 240,
     "metadata": {},
     "output_type": "execute_result"
    }
   ],
   "source": [
    "# Print Lda Vis\n",
    "vis = gensimvis.prepare(optimal_model, doc_term_matrix_tfidf, corpus_dictionary, mds=\"mmds\", R=10) #mds=\"tsne\"\n",
    "pyLDAvis.display(vis)"
   ]
  },
  {
   "cell_type": "code",
   "execution_count": 211,
   "metadata": {},
   "outputs": [],
   "source": [
    "output_file = open(\"df_ModelInfo.pickle\", \"wb\")\n",
    "pickle.dump(df_ModelInfo, output_file)\n",
    "output_file.close()\n",
    "\n",
    "output_file1 = open(\"doc_term_matrix_tfidf.pickle\", \"wb\")\n",
    "pickle.dump(doc_term_matrix_tfidf, output_file1)\n",
    "output_file1.close()"
   ]
  },
  {
   "cell_type": "markdown",
   "metadata": {},
   "source": [
    "### K-means Analysis Negative"
   ]
  },
  {
   "cell_type": "code",
   "execution_count": 212,
   "metadata": {
    "scrolled": true
   },
   "outputs": [
    {
     "name": "stderr",
     "output_type": "stream",
     "text": [
      "C:\\Users\\rgpih\\anaconda3a\\lib\\site-packages\\sklearn\\cluster\\_kmeans.py:792: FutureWarning: 'n_jobs' was deprecated in version 0.23 and will be removed in 1.0 (renaming of 0.25).\n",
      "  warnings.warn(\"'n_jobs' was deprecated in version 0.23 and will be\"\n"
     ]
    },
    {
     "name": "stdout",
     "output_type": "stream",
     "text": [
      "0 : bad, smell, cook, meat, taste, like, pet, good, food, texture\n",
      "1 : beef, good, taste, like, substitute, cook, texture, taste_like, similar, flavor\n",
      "2 : family, good, like, meat, tell, difference, taste, easy, health, recommend\n",
      "3 : meat, good, taste, like, substitute, taste_like, texture, recommend, similar, flavor\n",
      "4 : good, cook, taste, easy, barbecue, meat, can, texture, flavor, vegetarian\n",
      "5 : vegan, good, meat, taste, vegetarian, like, family, substitute, no, recommend\n",
      "6 : red_meat, like, good, taste, texture, cook, meat, taste_like, surprise, substitute\n"
     ]
    }
   ],
   "source": [
    "# https://towardsdatascience.com/k-means-clustering-chardonnay-reviews-using-scikit-learn-nltk-9df3c59527f3\n",
    "from sklearn.cluster import KMeans\n",
    "from sklearn import preprocessing, decomposition, model_selection, metrics, pipeline\n",
    "from sklearn.feature_extraction.text import TfidfVectorizer, CountVectorizer\n",
    "from sklearn.cluster import KMeans\n",
    "\n",
    "\n",
    "# doc_clean_tokenized_Lem = [review.split() for review in df_reviews[\"TextClean3\"]]\n",
    "# doc_tokenized = [review.split() for review in df_reviews[\"Text\"]]\n",
    "\n",
    "df = pd.DataFrame()\n",
    "#  split_text = \" \".join(split_text)\n",
    "#  clean_desc.append(split_text)\n",
    "\n",
    "ls_of_texts = df_reviews.TextClean4.values.tolist()\n",
    "clean_desc = []\n",
    "\n",
    "clean_desc = ls_of_texts\n",
    "#TF-IDF vectorizer\n",
    "tfv = TfidfVectorizer(ngram_range = (1,1))\n",
    "#transform\n",
    "vec_text = tfv.fit_transform(clean_desc)\n",
    "#returns a list of words.\n",
    "words = tfv.get_feature_names()\n",
    "\n",
    "#setup kmeans clustering\n",
    "kmeans = KMeans(n_clusters = 7, n_init = 17, n_jobs = -1, tol = 0.01, max_iter = 200)\n",
    "#fit the data \n",
    "kmeans.fit(vec_text)\n",
    "#this loop transforms the numbers back into words\n",
    "common_words = kmeans.cluster_centers_.argsort()[:,-1:-11:-1]\n",
    "for num, centroid in enumerate(common_words):\n",
    "    print(str(num) + ' : ' + ', '.join(words[word] for word in centroid))\n",
    "    \n",
    "#add the cluster label to the data frame\n",
    "df['cluster'] = kmeans.labels_\n",
    "clusters = df.groupby(['cluster']).size()"
   ]
  },
  {
   "cell_type": "code",
   "execution_count": 213,
   "metadata": {
    "scrolled": true
   },
   "outputs": [
    {
     "data": {
      "image/png": "[encoded data removed]",
      "text/plain": [
       "<Figure size 432x432 with 1 Axes>"
      ]
     },
     "metadata": {
      "needs_background": "light"
     },
     "output_type": "display_data"
    }
   ],
   "source": [
    "# Run the Kmeans algorithm and get the index of data points clusters\n",
    "sse = []\n",
    "list_k = list(range(1, 10))\n",
    "\n",
    "for k in list_k:\n",
    "    km = KMeans(n_clusters=k)\n",
    "    km.fit(vec_text)\n",
    "    sse.append(km.inertia_)\n",
    "\n",
    "# Plot sse against k\n",
    "plt.figure(figsize=(6, 6))\n",
    "plt.plot(list_k, sse, '-o')\n",
    "plt.xlabel(r'Number of clusters *k*')\n",
    "plt.ylabel('Sum of squared distance');"
   ]
  },
  {
   "cell_type": "code",
   "execution_count": 214,
   "metadata": {},
   "outputs": [
    {
     "data": {
      "image/png": "[encoded data removed]",
      "text/plain": [
       "<Figure size 720x720 with 1 Axes>"
      ]
     },
     "metadata": {
      "needs_background": "light"
     },
     "output_type": "display_data"
    }
   ],
   "source": [
    "from sklearn.metrics import silhouette_samples\n",
    "from matplotlib import cm\n",
    "import numpy as np\n",
    "X = vec_text\n",
    "km = KMeans(n_clusters=4, \n",
    "            init='k-means++', \n",
    "            n_init=10, \n",
    "            max_iter=300,\n",
    "            tol=1e-04,\n",
    "            random_state=0)\n",
    "y_km = km.fit_predict(X)\n",
    "\n",
    "\n",
    "fig, ax = plt.subplots(figsize=(10,10))\n",
    "cluster_labels = np.unique(y_km)\n",
    "n_clusters = cluster_labels.shape[0]\n",
    "silhouette_vals = silhouette_samples(X, y_km, metric='euclidean')\n",
    "y_ax_lower, y_ax_upper = 0, 0\n",
    "yticks = []\n",
    "for i, c in enumerate(cluster_labels):\n",
    "    c_silhouette_vals = silhouette_vals[y_km == c]\n",
    "    c_silhouette_vals.sort()\n",
    "    y_ax_upper += len(c_silhouette_vals)\n",
    "    color = cm.jet(float(i) / n_clusters)\n",
    "    plt.barh(range(y_ax_lower, y_ax_upper), c_silhouette_vals, height=1.0, \n",
    "             edgecolor='none', color=color)\n",
    "\n",
    "    yticks.append((y_ax_lower + y_ax_upper) / 2.)\n",
    "    y_ax_lower += len(c_silhouette_vals)\n",
    "    \n",
    "silhouette_avg = np.mean(silhouette_vals)\n",
    "plt.axvline(silhouette_avg, color=\"red\", linestyle=\"--\") \n",
    "\n",
    "plt.yticks(yticks, cluster_labels + 1, fontsize=12)\n",
    "plt.xticks(fontsize=12)\n",
    "plt.ylabel('Cluster', fontsize=12)\n",
    "plt.xlabel('Silhouette coefficient',fontsize=12)\n",
    "\n",
    "plt.tight_layout()\n",
    "#plt.savefig('images/11_04.png', dpi=300)\n",
    "plt.show()\n"
   ]
  },
  {
   "cell_type": "code",
   "execution_count": 215,
   "metadata": {},
   "outputs": [],
   "source": [
    "# <!-- Quantifying the quality of clustering via silhouette plots\n",
    "# Silhouette score for a set of sample data points is used to measure how dense and well-separated the clusters are.\n",
    "# Silhouette score takes into consideration the intra-cluster distance between the sample and other data points within the same cluster (a) and inter-cluster distance between the sample and the next nearest cluster (b).\n",
    "# The silhouette score falls within the range [-1, 1].\n",
    "# The silhouette score of 1 means that the clusters are very dense and nicely separated. The score of 0 means that clusters are overlapping. The score of less than 0 means that data belonging to clusters may be wrong/incorrect.\n",
    "# The silhouette plots can be used to select the most optimal value of the K (no. of cluster) in K-means clustering.\n",
    "# The aspects to look out for in Silhouette plots are cluster scores below the average silhouette score, wide fluctuations in the size of the clusters, and also the thickness of the silhouette plot. -->"
   ]
  },
  {
   "cell_type": "markdown",
   "metadata": {},
   "source": [
    "## Positive Reviews"
   ]
  },
  {
   "cell_type": "code",
   "execution_count": 216,
   "metadata": {},
   "outputs": [
    {
     "data": {
      "text/html": [
       "<div>\n",
       "<style scoped>\n",
       "    .dataframe tbody tr th:only-of-type {\n",
       "        vertical-align: middle;\n",
       "    }\n",
       "\n",
       "    .dataframe tbody tr th {\n",
       "        vertical-align: top;\n",
       "    }\n",
       "\n",
       "    .dataframe thead th {\n",
       "        text-align: right;\n",
       "    }\n",
       "</style>\n",
       "<table border=\"1\" class=\"dataframe\">\n",
       "  <thead>\n",
       "    <tr style=\"text-align: right;\">\n",
       "      <th></th>\n",
       "      <th>ModelName</th>\n",
       "      <th>Model</th>\n",
       "      <th>NumberOfTopics</th>\n",
       "      <th>Coherence</th>\n",
       "    </tr>\n",
       "  </thead>\n",
       "  <tbody>\n",
       "    <tr>\n",
       "      <th>0</th>\n",
       "      <td>ldatfidf</td>\n",
       "      <td>LdaModel(num_terms=366, num_topics=4, decay=0.02, chunksize=50)</td>\n",
       "      <td>4</td>\n",
       "      <td>0.497222</td>\n",
       "    </tr>\n",
       "    <tr>\n",
       "      <th>1</th>\n",
       "      <td>ldatfidf</td>\n",
       "      <td>LdaModel(num_terms=366, num_topics=5, decay=0.02, chunksize=50)</td>\n",
       "      <td>5</td>\n",
       "      <td>0.497486</td>\n",
       "    </tr>\n",
       "    <tr>\n",
       "      <th>2</th>\n",
       "      <td>ldatfidf</td>\n",
       "      <td>LdaModel(num_terms=366, num_topics=6, decay=0.02, chunksize=50)</td>\n",
       "      <td>6</td>\n",
       "      <td>0.557967</td>\n",
       "    </tr>\n",
       "    <tr>\n",
       "      <th>3</th>\n",
       "      <td>ldatfidf</td>\n",
       "      <td>LdaModel(num_terms=366, num_topics=7, decay=0.02, chunksize=50)</td>\n",
       "      <td>7</td>\n",
       "      <td>0.546413</td>\n",
       "    </tr>\n",
       "  </tbody>\n",
       "</table>\n",
       "</div>"
      ],
      "text/plain": [
       "  ModelName                                                            Model  \\\n",
       "0  ldatfidf  LdaModel(num_terms=366, num_topics=4, decay=0.02, chunksize=50)   \n",
       "1  ldatfidf  LdaModel(num_terms=366, num_topics=5, decay=0.02, chunksize=50)   \n",
       "2  ldatfidf  LdaModel(num_terms=366, num_topics=6, decay=0.02, chunksize=50)   \n",
       "3  ldatfidf  LdaModel(num_terms=366, num_topics=7, decay=0.02, chunksize=50)   \n",
       "\n",
       "  NumberOfTopics  Coherence  \n",
       "0              4   0.497222  \n",
       "1              5   0.497486  \n",
       "2              6   0.557967  \n",
       "3              7   0.546413  "
      ]
     },
     "execution_count": 216,
     "metadata": {},
     "output_type": "execute_result"
    }
   ],
   "source": [
    "doc_clean_tokenized_Lem_P, corpus_dictionary_P, doc_term_matrix_tfidf_P,  = create_DictionaryAndDocTermMatrix(df_reviews_P[\"TextClean4\"])\n",
    "df_ModelInfo_P = create_Lda_Models(doc_term_matrix_tfidf_P, doc_clean_tokenized_Lem_P, corpus_dictionary_P)\n",
    "df_ModelInfo_P"
   ]
  },
  {
   "cell_type": "code",
   "execution_count": 217,
   "metadata": {
    "scrolled": false
   },
   "outputs": [
    {
     "name": "stdout",
     "output_type": "stream",
     "text": [
      "Total Rows All Reviews Df: 1512\n",
      "Total Rows All Reviews Token List: 1512\n",
      "Total Rows All Reviews TFIDF: 1512\n"
     ]
    }
   ],
   "source": [
    "print(f'Total Rows All Reviews Df: {len(df_reviews_P)}')\n",
    "print(f'Total Rows All Reviews Token List: {len(doc_clean_tokenized_Lem_P)}')\n",
    "# print(f'Total Rows All Reviews Dic: {len(corpus_dictionary_P)}')\n",
    "print(f'Total Rows All Reviews TFIDF: {len(doc_term_matrix_tfidf_P)}')  "
   ]
  },
  {
   "cell_type": "code",
   "execution_count": 237,
   "metadata": {},
   "outputs": [
    {
     "data": {
      "text/plain": [
       "[(0,\n",
       "  '0.021*\"meat\" + 0.020*\"like\" + 0.018*\"taste\" + 0.018*\"family\" + 0.017*\"good\" + 0.016*\"vegan\" + 0.015*\"red_meat\" + 0.015*\"beef\" + 0.015*\"cook\" + 0.014*\"substitute\"'),\n",
       " (1,\n",
       "  '0.065*\"quality\" + 0.054*\"high\" + 0.027*\"leave\" + 0.027*\"inexpensive\" + 0.024*\"stomach\" + 0.024*\"finally\" + 0.023*\"crispy\" + 0.023*\"impressed\" + 0.022*\"chemical\" + 0.020*\"pork\"'),\n",
       " (2,\n",
       "  '0.077*\"size\" + 0.040*\"cruelty\" + 0.034*\"exceededed\" + 0.027*\"issue\" + 0.024*\"worry\" + 0.022*\"break\" + 0.016*\"win\" + 0.016*\"read\" + 0.014*\"sorry\" + 0.014*\"section\"'),\n",
       " (3,\n",
       "  '0.084*\"convenient\" + 0.036*\"smell_bad\" + 0.034*\"shape\" + 0.030*\"guilt\" + 0.024*\"guilt_free\" + 0.021*\"hype\" + 0.017*\"small\" + 0.010*\"feed\" + 0.006*\"contain\" + 0.006*\"body\"')]"
      ]
     },
     "execution_count": 237,
     "metadata": {},
     "output_type": "execute_result"
    }
   ],
   "source": [
    "# Select the model and print the topics\n",
    "optimal_model_P = df_ModelInfo_P[(df_ModelInfo_P[\"ModelName\"] == \"ldatfidf\") & (df_ModelInfo_P[\"NumberOfTopics\"]==4)][\"Model\"].values[0]\n",
    "optimal_model_P.print_topics()"
   ]
  },
  {
   "cell_type": "code",
   "execution_count": 219,
   "metadata": {},
   "outputs": [
    {
     "data": {
      "text/html": [
       "<div>\n",
       "<style scoped>\n",
       "    .dataframe tbody tr th:only-of-type {\n",
       "        vertical-align: middle;\n",
       "    }\n",
       "\n",
       "    .dataframe tbody tr th {\n",
       "        vertical-align: top;\n",
       "    }\n",
       "\n",
       "    .dataframe thead th {\n",
       "        text-align: right;\n",
       "    }\n",
       "</style>\n",
       "<table border=\"1\" class=\"dataframe\">\n",
       "  <thead>\n",
       "    <tr style=\"text-align: right;\">\n",
       "      <th></th>\n",
       "      <th>Text</th>\n",
       "      <th>TextClean4</th>\n",
       "    </tr>\n",
       "  </thead>\n",
       "  <tbody>\n",
       "  </tbody>\n",
       "</table>\n",
       "</div>"
      ],
      "text/plain": [
       "Empty DataFrame\n",
       "Columns: [Text, TextClean4]\n",
       "Index: []"
      ]
     },
     "execution_count": 219,
     "metadata": {},
     "output_type": "execute_result"
    }
   ],
   "source": [
    "df_reviews_Find = df_reviews_P[df_reviews_P['TextClean4'].str.contains(\" frozen \")][['Text','TextClean4']]\n",
    "# df_reviews_Fi\n",
    "df_reviews_Find"
   ]
  },
  {
   "cell_type": "code",
   "execution_count": 220,
   "metadata": {},
   "outputs": [
    {
     "data": {
      "text/html": [
       "\n",
       "<link rel=\"stylesheet\" type=\"text/css\" href=\"https://cdn.rawgit.com/bmabey/pyLDAvis/files/ldavis.v1.0.0.css\">\n",
       "\n",
       "\n",
       "<div id=\"ldavis_el1571218909946136005908211508\"></div>\n",
       "<script type=\"text/javascript\">\n",
       "\n",
       "var ldavis_el1571218909946136005908211508_data = {\"mdsDat\": {\"x\": [-0.13597618096031208, -0.0009615273382755055, 0.11563065608799854, 0.02130705221058904], \"y\": [-0.1652162458899702, 0.20196810887029742, -0.043878881778219726, 0.007127018797892493], \"topics\": [1, 2, 3, 4], \"cluster\": [1, 1, 1, 1], \"Freq\": [77.96629333496094, 11.151721954345703, 6.230205535888672, 4.651775360107422]}, \"tinfo\": {\"Term\": [\"quality\", \"size\", \"convenient\", \"high\", \"cruelty\", \"smell_bad\", \"exceededed\", \"leave\", \"inexpensive\", \"stomach\", \"meat\", \"like\", \"taste\", \"family\", \"good\", \"vegan\", \"red_meat\", \"beef\", \"cook\", \"substitute\", \"quality\", \"high\", \"stomach\", \"crispy\", \"leave\", \"impressed\", \"finally\", \"chemical\", \"scared\", \"inexpensive\", \"pork\", \"size\", \"cruelty\", \"issue\", \"worry\", \"break\", \"win\", \"read\", \"apart\", \"exceededed\", \"kill\", \"section\", \"sorry\", \"shape\", \"guilt\", \"guilt_free\", \"convenient\", \"hype\", \"smell_bad\", \"contain\", \"trick\", \"small\", \"treat\", \"feed\", \"body\"], \"Freq\": [31.0, 21.0, 20.0, 26.0, 11.0, 11.0, 12.0, 13.0, 13.0, 12.0, 69.28246307373047, 63.4008674621582, 59.61458969116211, 59.23399353027344, 53.7049674987793, 51.155487060546875, 49.66556930541992, 47.80585861206055, 47.63882827758789, 46.861637115478516, 29.948881149291992, 25.001468658447266, 11.166871070861816, 10.776566505432129, 12.665428161621094, 10.49942684173584, 11.081857681274414, 10.020371437072754, 8.663593292236328, 12.424858093261719, 9.140244483947754, 20.044267654418945, 10.257079124450684, 7.113853931427002, 6.257400035858154, 5.578752517700195, 4.252988815307617, 4.167789459228516, 3.3306262493133545, 8.921875953674316, 3.284017562866211, 3.6525354385375977, 3.7338144779205322, 6.542845726013184, 5.704043388366699, 4.568182468414307, 16.24877166748047, 3.968484401702881, 6.9487833976745605, 1.124060034751892, 0.6124686598777771, 3.2105154991149902, 0.44182252883911133, 1.8365346193313599, 1.0959116220474243], \"Total\": [31.0, 21.0, 20.0, 26.0, 11.0, 11.0, 12.0, 13.0, 13.0, 12.0, 70.57012939453125, 64.69003295898438, 60.905521392822266, 60.527320861816406, 55.00038146972656, 52.436065673828125, 50.943511962890625, 49.09153747558594, 48.92461395263672, 48.14194869995117, 31.009071350097656, 26.079612731933594, 12.225287437438965, 11.83950424194336, 13.931736946105957, 11.556447982788086, 12.20380973815918, 11.07591724395752, 9.719786643981934, 13.965921401977539, 10.363548278808594, 21.529346466064453, 11.293593406677246, 8.127213478088379, 7.26323938369751, 6.590890407562256, 5.257307529449463, 5.361774444580078, 4.345396518707275, 12.168444633483887, 4.534514427185059, 5.393594741821289, 8.048088073730469, 7.920675277709961, 6.951277256011963, 5.698353290557861, 20.82563018798828, 5.1602783203125, 11.556449890136719, 2.206717014312744, 1.7126045227050781, 10.533580780029297, 1.5184242725372314, 7.322012901306152, 7.066162109375], \"Category\": [\"Default\", \"Default\", \"Default\", \"Default\", \"Default\", \"Default\", \"Default\", \"Default\", \"Default\", \"Default\", \"Topic1\", \"Topic1\", \"Topic1\", \"Topic1\", \"Topic1\", \"Topic1\", \"Topic1\", \"Topic1\", \"Topic1\", \"Topic1\", \"Topic2\", \"Topic2\", \"Topic2\", \"Topic2\", \"Topic2\", \"Topic2\", \"Topic2\", \"Topic2\", \"Topic2\", \"Topic2\", \"Topic2\", \"Topic3\", \"Topic3\", \"Topic3\", \"Topic3\", \"Topic3\", \"Topic3\", \"Topic3\", \"Topic3\", \"Topic3\", \"Topic3\", \"Topic3\", \"Topic3\", \"Topic4\", \"Topic4\", \"Topic4\", \"Topic4\", \"Topic4\", \"Topic4\", \"Topic4\", \"Topic4\", \"Topic4\", \"Topic4\", \"Topic4\", \"Topic4\"], \"logprob\": [10.0, 9.0, 8.0, 7.0, 6.0, 5.0, 4.0, 3.0, 2.0, 1.0, -3.844599962234497, -3.933300018310547, -3.994800090789795, -4.001299858093262, -4.0991997718811035, -4.147900104522705, -4.1774001121521, -4.21560001373291, -4.219099998474121, -4.235499858856201, -2.738600015640259, -2.919100046157837, -3.725100040435791, -3.760699987411499, -3.5992000102996826, -3.7867000102996826, -3.732800006866455, -3.833400011062622, -3.9788999557495117, -3.6184000968933105, -3.9254000186920166, -2.5578999519348145, -3.2279000282287598, -3.5938000679016113, -3.722100019454956, -3.836899995803833, -4.10830020904541, -4.128499984741211, -4.352700233459473, -3.3673999309539795, -4.366799831390381, -4.260499954223633, -4.238399982452393, -3.3852999210357666, -3.5225000381469727, -3.7446000576019287, -2.4756999015808105, -3.8852999210357666, -3.325200080871582, -5.1468000411987305, -5.754000186920166, -4.097300052642822, -6.080599784851074, -4.655799865722656, -5.172100067138672], \"loglift\": [10.0, 9.0, 8.0, 7.0, 6.0, 5.0, 4.0, 3.0, 2.0, 1.0, 0.2304999977350235, 0.2287999987602234, 0.22750000655651093, 0.2273000031709671, 0.22509999573230743, 0.22419999539852142, 0.22349999845027924, 0.2223999947309494, 0.2222999930381775, 0.22190000116825104, 2.158799886703491, 2.151400089263916, 2.1029999256134033, 2.0994999408721924, 2.098299980163574, 2.0977001190185547, 2.097100019454956, 2.093400001525879, 2.0785000324249268, 2.07669997215271, 2.068000078201294, 2.7042999267578125, 2.679500102996826, 2.6426000595092773, 2.626699924468994, 2.6089999675750732, 2.563800096511841, 2.523900032043457, 2.5097999572753906, 2.465399980545044, 2.4530999660491943, 2.385999917984009, 2.0078001022338867, 2.876800060272217, 2.8701999187469482, 2.84689998626709, 2.8197999000549316, 2.805299997329712, 2.5592000484466553, 2.393399953842163, 2.039599895477295, 1.8797999620437622, 1.833400011062622, 1.6849000453948975, 1.204200029373169]}, \"token.table\": {\"Topic\": [3, 1, 1, 2, 3, 4, 3, 2, 4, 2, 4, 1, 2, 3, 2, 3, 1, 1, 2, 4, 2, 1, 4, 4, 2, 4, 2, 1, 2, 3, 3, 3, 2, 1, 1, 2, 2, 3, 1, 2, 2, 3, 3, 4, 2, 3, 1, 2, 3, 4, 1, 2, 3, 4, 1, 2, 3, 2, 1, 1, 4, 1, 3, 3], \"Freq\": [0.6903857588768005, 0.9777652621269226, 0.5660781264305115, 0.14151953160762787, 0.14151953160762787, 0.14151953160762787, 0.9103474020957947, 0.9028597474098206, 0.4531618654727936, 0.19207102060317993, 0.7682840824127197, 0.9811012744903564, 0.9290929436683655, 0.8854577541351318, 0.16435953974723816, 0.7396179437637329, 0.9747664332389832, 0.5462978482246399, 0.13657446205615997, 0.27314892411231995, 0.901357889175415, 0.9818113446235657, 0.8631507158279419, 0.8774464726448059, 0.9586032032966614, 0.7751519680023193, 0.8653177618980408, 0.07160286605358124, 0.8592343926429749, 0.07160286605358124, 0.8613038063049316, 0.6615923643112183, 0.9331212639808655, 0.9738749265670776, 0.9777507781982422, 0.8684284090995789, 0.9674588441848755, 0.7460216879844666, 0.9814792275428772, 0.9259462356567383, 0.18540510535240173, 0.7416204214096069, 0.12625186145305634, 0.8837630152702332, 0.046448227018117905, 0.9289645552635193, 0.5696069002151489, 0.09493447840213776, 0.09493447840213776, 0.28480345010757446, 0.08653176575899124, 0.08653176575899124, 0.2595953047275543, 0.6057223677635193, 0.12425311654806137, 0.3727593421936035, 0.4970124661922455, 0.8997743725776672, 0.9762795567512512, 0.9851323366165161, 0.5839059948921204, 0.9726130366325378, 0.7608457207679749, 0.8260776996612549], \"Term\": [\"apart\", \"beef\", \"body\", \"body\", \"body\", \"body\", \"break\", \"chemical\", \"contain\", \"convenient\", \"convenient\", \"cook\", \"crispy\", \"cruelty\", \"exceededed\", \"exceededed\", \"family\", \"feed\", \"feed\", \"feed\", \"finally\", \"good\", \"guilt\", \"guilt_free\", \"high\", \"hype\", \"impressed\", \"inexpensive\", \"inexpensive\", \"inexpensive\", \"issue\", \"kill\", \"leave\", \"like\", \"meat\", \"pork\", \"quality\", \"read\", \"red_meat\", \"scared\", \"section\", \"section\", \"shape\", \"shape\", \"size\", \"size\", \"small\", \"small\", \"small\", \"small\", \"smell_bad\", \"smell_bad\", \"smell_bad\", \"smell_bad\", \"sorry\", \"sorry\", \"sorry\", \"stomach\", \"substitute\", \"taste\", \"trick\", \"vegan\", \"win\", \"worry\"]}, \"R\": 10, \"lambda.step\": 0.01, \"plot.opts\": {\"xlab\": \"PC1\", \"ylab\": \"PC2\"}, \"topic.order\": [1, 2, 3, 4]};\n",
       "\n",
       "function LDAvis_load_lib(url, callback){\n",
       "  var s = document.createElement('script');\n",
       "  s.src = url;\n",
       "  s.async = true;\n",
       "  s.onreadystatechange = s.onload = callback;\n",
       "  s.onerror = function(){console.warn(\"failed to load library \" + url);};\n",
       "  document.getElementsByTagName(\"head\")[0].appendChild(s);\n",
       "}\n",
       "\n",
       "if(typeof(LDAvis) !== \"undefined\"){\n",
       "   // already loaded: just create the visualization\n",
       "   !function(LDAvis){\n",
       "       new LDAvis(\"#\" + \"ldavis_el1571218909946136005908211508\", ldavis_el1571218909946136005908211508_data);\n",
       "   }(LDAvis);\n",
       "}else if(typeof define === \"function\" && define.amd){\n",
       "   // require.js is available: use it to load d3/LDAvis\n",
       "   require.config({paths: {d3: \"https://cdnjs.cloudflare.com/ajax/libs/d3/3.5.5/d3.min\"}});\n",
       "   require([\"d3\"], function(d3){\n",
       "      window.d3 = d3;\n",
       "      LDAvis_load_lib(\"https://cdn.rawgit.com/bmabey/pyLDAvis/files/ldavis.v1.0.0.js\", function(){\n",
       "        new LDAvis(\"#\" + \"ldavis_el1571218909946136005908211508\", ldavis_el1571218909946136005908211508_data);\n",
       "      });\n",
       "    });\n",
       "}else{\n",
       "    // require.js not available: dynamically load d3 & LDAvis\n",
       "    LDAvis_load_lib(\"https://cdnjs.cloudflare.com/ajax/libs/d3/3.5.5/d3.min.js\", function(){\n",
       "         LDAvis_load_lib(\"https://cdn.rawgit.com/bmabey/pyLDAvis/files/ldavis.v1.0.0.js\", function(){\n",
       "                 new LDAvis(\"#\" + \"ldavis_el1571218909946136005908211508\", ldavis_el1571218909946136005908211508_data);\n",
       "            })\n",
       "         });\n",
       "}\n",
       "</script>"
      ],
      "text/plain": [
       "<IPython.core.display.HTML object>"
      ]
     },
     "execution_count": 220,
     "metadata": {},
     "output_type": "execute_result"
    }
   ],
   "source": [
    "# Print Lda Vis\n",
    "vis = gensimvis.prepare(optimal_model_P, doc_term_matrix_tfidf_P, corpus_dictionary_P, mds=\"mmds\", R=10) #mds=\"tsne\"\n",
    "pyLDAvis.display(vis)"
   ]
  },
  {
   "cell_type": "code",
   "execution_count": 221,
   "metadata": {},
   "outputs": [],
   "source": [
    "output_file = open(\"df_ModelInfo_P.pickle\", \"wb\")\n",
    "pickle.dump(df_ModelInfo_P, output_file)\n",
    "output_file.close()\n",
    "\n",
    "output_file1 = open(\"doc_term_matrix_tfidf_P.pickle\", \"wb\")\n",
    "pickle.dump(doc_term_matrix_tfidf_P, output_file1)\n",
    "output_file1.close()"
   ]
  },
  {
   "cell_type": "markdown",
   "metadata": {},
   "source": [
    "### K-means Analysis Negative"
   ]
  },
  {
   "cell_type": "code",
   "execution_count": 222,
   "metadata": {
    "scrolled": true
   },
   "outputs": [
    {
     "name": "stderr",
     "output_type": "stream",
     "text": [
      "C:\\Users\\rgpih\\anaconda3a\\lib\\site-packages\\sklearn\\cluster\\_kmeans.py:792: FutureWarning: 'n_jobs' was deprecated in version 0.23 and will be removed in 1.0 (renaming of 0.25).\n",
      "  warnings.warn(\"'n_jobs' was deprecated in version 0.23 and will be\"\n"
     ]
    },
    {
     "name": "stdout",
     "output_type": "stream",
     "text": [
      "0 : can, good, meat, taste, like, cook, health, barbecue, red_meat, texture\n",
      "1 : meat, good, like, taste, substitute, taste_like, texture, cook, health, recommend\n",
      "2 : red_meat, good, taste, like, surprise, texture, cook, taste_like, similar, meat\n",
      "3 : family, good, meat, like, tell, taste, difference, easy, recommend, health\n",
      "4 : vegan, good, meat, taste, vegetarian, like, substitute, family, recommend, red_meat\n",
      "5 : good, cook, meat, easy, taste, barbecue, like, flavor, no, vegetarian\n",
      "6 : beef, good, taste, like, substitute, cook, texture, taste_like, family, red_meat\n"
     ]
    }
   ],
   "source": [
    "# https://towardsdatascience.com/k-means-clustering-chardonnay-reviews-using-scikit-learn-nltk-9df3c59527f3\n",
    "from sklearn.cluster import KMeans\n",
    "from sklearn import preprocessing, decomposition, model_selection, metrics, pipeline\n",
    "from sklearn.feature_extraction.text import TfidfVectorizer, CountVectorizer\n",
    "from sklearn.cluster import KMeans\n",
    "\n",
    "\n",
    "# doc_clean_tokenized_Lem = [review.split() for review in df_reviews[\"TextClean3\"]]\n",
    "# doc_tokenized = [review.split() for review in df_reviews[\"Text\"]]\n",
    "\n",
    "df = pd.DataFrame()\n",
    "#  split_text = \" \".join(split_text)\n",
    "#  clean_desc.append(split_text)\n",
    "\n",
    "ls_of_texts = df_reviews_P.TextClean4.values.tolist()\n",
    "clean_desc = []\n",
    "\n",
    "clean_desc = ls_of_texts\n",
    "#TF-IDF vectorizer\n",
    "tfv = TfidfVectorizer(ngram_range = (1,1))\n",
    "#transform\n",
    "vec_text = tfv.fit_transform(clean_desc)\n",
    "#returns a list of words.\n",
    "words = tfv.get_feature_names()\n",
    "\n",
    "#setup kmeans clustering\n",
    "kmeans = KMeans(n_clusters = 7, n_init = 17, n_jobs = -1, tol = 0.01, max_iter = 200)\n",
    "#fit the data \n",
    "kmeans.fit(vec_text)\n",
    "#this loop transforms the numbers back into words\n",
    "common_words = kmeans.cluster_centers_.argsort()[:,-1:-11:-1]\n",
    "for num, centroid in enumerate(common_words):\n",
    "    print(str(num) + ' : ' + ', '.join(words[word] for word in centroid))\n",
    "    \n",
    "#add the cluster label to the data frame\n",
    "df['cluster'] = kmeans.labels_\n",
    "clusters = df.groupby(['cluster']).size()"
   ]
  },
  {
   "cell_type": "code",
   "execution_count": 223,
   "metadata": {},
   "outputs": [
    {
     "data": {
      "image/png": "[encoded data removed]",
      "text/plain": [
       "<Figure size 432x432 with 1 Axes>"
      ]
     },
     "metadata": {
      "needs_background": "light"
     },
     "output_type": "display_data"
    }
   ],
   "source": [
    "# Run the Kmeans algorithm and get the index of data points clusters\n",
    "sse = []\n",
    "list_k = list(range(1, 10))\n",
    "\n",
    "for k in list_k:\n",
    "    km = KMeans(n_clusters=k)\n",
    "    km.fit(vec_text)\n",
    "    sse.append(km.inertia_)\n",
    "\n",
    "# Plot sse against k\n",
    "plt.figure(figsize=(6, 6))\n",
    "plt.plot(list_k, sse, '-o')\n",
    "plt.xlabel(r'Number of clusters *k*')\n",
    "plt.ylabel('Sum of squared distance');"
   ]
  },
  {
   "cell_type": "code",
   "execution_count": 224,
   "metadata": {},
   "outputs": [],
   "source": [
    "# reviewsContaining = df_reviews[df_reviews['TextClean3'].str.contains(' cause ')]\n",
    "# reviewsContaining[['Text','TextClean','TextClean3']]"
   ]
  },
  {
   "cell_type": "markdown",
   "metadata": {},
   "source": [
    "## Negative Reviews"
   ]
  },
  {
   "cell_type": "code",
   "execution_count": 225,
   "metadata": {},
   "outputs": [
    {
     "data": {
      "text/html": [
       "<div>\n",
       "<style scoped>\n",
       "    .dataframe tbody tr th:only-of-type {\n",
       "        vertical-align: middle;\n",
       "    }\n",
       "\n",
       "    .dataframe tbody tr th {\n",
       "        vertical-align: top;\n",
       "    }\n",
       "\n",
       "    .dataframe thead th {\n",
       "        text-align: right;\n",
       "    }\n",
       "</style>\n",
       "<table border=\"1\" class=\"dataframe\">\n",
       "  <thead>\n",
       "    <tr style=\"text-align: right;\">\n",
       "      <th></th>\n",
       "      <th>ModelName</th>\n",
       "      <th>Model</th>\n",
       "      <th>NumberOfTopics</th>\n",
       "      <th>Coherence</th>\n",
       "    </tr>\n",
       "  </thead>\n",
       "  <tbody>\n",
       "    <tr>\n",
       "      <th>0</th>\n",
       "      <td>ldatfidf</td>\n",
       "      <td>LdaModel(num_terms=292, num_topics=2, decay=0.02, chunksize=50)</td>\n",
       "      <td>2</td>\n",
       "      <td>0.603598</td>\n",
       "    </tr>\n",
       "    <tr>\n",
       "      <th>1</th>\n",
       "      <td>ldatfidf</td>\n",
       "      <td>LdaModel(num_terms=292, num_topics=3, decay=0.02, chunksize=50)</td>\n",
       "      <td>3</td>\n",
       "      <td>0.689918</td>\n",
       "    </tr>\n",
       "  </tbody>\n",
       "</table>\n",
       "</div>"
      ],
      "text/plain": [
       "  ModelName                                                            Model  \\\n",
       "0  ldatfidf  LdaModel(num_terms=292, num_topics=2, decay=0.02, chunksize=50)   \n",
       "1  ldatfidf  LdaModel(num_terms=292, num_topics=3, decay=0.02, chunksize=50)   \n",
       "\n",
       "  NumberOfTopics  Coherence  \n",
       "0              2   0.603598  \n",
       "1              3   0.689918  "
      ]
     },
     "execution_count": 225,
     "metadata": {},
     "output_type": "execute_result"
    }
   ],
   "source": [
    "doc_clean_tokenized_Lem_N, corpus_dictionary_N, doc_term_matrix_tfidf_N,  = create_DictionaryAndDocTermMatrix(df_reviews_N[\"TextClean4\"])\n",
    "df_ModelInfo_N = create_Lda_Models_short(doc_term_matrix_tfidf_N, doc_clean_tokenized_Lem_N, corpus_dictionary_N)\n",
    "df_ModelInfo_N"
   ]
  },
  {
   "cell_type": "code",
   "execution_count": 226,
   "metadata": {},
   "outputs": [
    {
     "data": {
      "text/plain": [
       "[(0,\n",
       "  '0.017*\"bad\" + 0.015*\"smell\" + 0.013*\"good\" + 0.013*\"meat\" + 0.012*\"cook\" + 0.012*\"like\" + 0.012*\"pet\" + 0.012*\"red_meat\" + 0.012*\"food\" + 0.011*\"beef\"'),\n",
       " (1,\n",
       "  '0.004*\"carb\" + 0.004*\"fill\" + 0.003*\"unhealth\" + 0.003*\"canola\" + 0.003*\"kill\" + 0.003*\"crumble\" + 0.003*\"size\" + 0.003*\"package\" + 0.003*\"compare\" + 0.003*\"household\"')]"
      ]
     },
     "execution_count": 226,
     "metadata": {},
     "output_type": "execute_result"
    }
   ],
   "source": [
    "# Select the model and print the topics\n",
    "optimal_model_N = df_ModelInfo_N[(df_ModelInfo_N[\"ModelName\"] == \"ldatfidf\") & (df_ModelInfo_N[\"NumberOfTopics\"]==2)][\"Model\"].values[0]\n",
    "optimal_model_N.print_topics()"
   ]
  },
  {
   "cell_type": "code",
   "execution_count": 227,
   "metadata": {
    "scrolled": false
   },
   "outputs": [
    {
     "data": {
      "text/html": [
       "\n",
       "<link rel=\"stylesheet\" type=\"text/css\" href=\"https://cdn.rawgit.com/bmabey/pyLDAvis/files/ldavis.v1.0.0.css\">\n",
       "\n",
       "\n",
       "<div id=\"ldavis_el157121890992859392684559877\"></div>\n",
       "<script type=\"text/javascript\">\n",
       "\n",
       "var ldavis_el157121890992859392684559877_data = {\"mdsDat\": {\"x\": [-0.0075731348343570665, 0.0075731348343570665], \"y\": [0.023906482787900033, -0.023906482787900033], \"topics\": [1, 2], \"cluster\": [1, 1], \"Freq\": [90.71546936035156, 9.284529685974121]}, \"tinfo\": {\"Term\": [\"fill\", \"carb\", \"unhealth\", \"kill\", \"opening\", \"canola\", \"help\", \"restaurant\", \"rating\", \"body\", \"bad\", \"smell\", \"good\", \"meat\", \"cook\", \"like\", \"pet\", \"red_meat\", \"food\", \"beef\", \"scare\", \"addition\", \"prior\", \"choice\", \"week\", \"unique\", \"science\", \"impressive\", \"contain\", \"nearly\", \"clear\", \"intake\", \"small\", \"admit\", \"future\", \"household\", \"carb\", \"unhealth\", \"wish\", \"fill\", \"crumble\", \"size\", \"serve\", \"compare\", \"kill\", \"canola\", \"package\"], \"Freq\": [1.0, 1.0, 1.0, 1.0, 1.0, 1.0, 1.0, 1.0, 1.0, 1.0, 6.443092346191406, 5.895434379577637, 5.2057342529296875, 5.166682243347168, 4.799004077911377, 4.70412015914917, 4.524910926818848, 4.5194478034973145, 4.497193336486816, 4.319413661956787, 0.13389723002910614, 0.13440945744514465, 0.13440945744514465, 0.13457758724689484, 0.13457758724689484, 0.13529513776302338, 0.13529513776302338, 0.13529513776302338, 0.13529513776302338, 0.13412266969680786, 0.13449475169181824, 0.13449475169181824, 0.13449475169181824, 0.135975182056427, 0.13642127811908722, 0.136853888630867, 0.1391962766647339, 0.13847538828849792, 0.13538625836372375, 0.139160618185997, 0.13735748827457428, 0.13691024482250214, 0.13673460483551025, 0.13688474893569946, 0.13756518065929413, 0.137978658080101, 0.13690237700939178], \"Total\": [1.0, 1.0, 1.0, 1.0, 1.0, 1.0, 1.0, 1.0, 1.0, 1.0, 6.579560279846191, 6.031887054443359, 5.341925621032715, 5.302778244018555, 4.935165882110596, 4.840251922607422, 4.660966396331787, 4.655447483062744, 4.633227348327637, 4.455397129058838, 0.5653255581855774, 0.5940916538238525, 0.5940916538238525, 0.6072995662689209, 0.6072995662689209, 0.6157029271125793, 0.6157029271125793, 0.6157029271125793, 0.6157029271125793, 0.6118282675743103, 0.6155740022659302, 0.6155740022659302, 0.6155740022659302, 0.6716803312301636, 0.7090640664100647, 0.7723175287246704, 1.0436609983444214, 1.0346933603286743, 0.6746392250061035, 1.233978271484375, 0.9352145195007324, 0.8469248414039612, 0.8351726531982422, 0.8814847469329834, 1.0515506267547607, 1.3838679790496826, 2.982297658920288], \"Category\": [\"Default\", \"Default\", \"Default\", \"Default\", \"Default\", \"Default\", \"Default\", \"Default\", \"Default\", \"Default\", \"Topic1\", \"Topic1\", \"Topic1\", \"Topic1\", \"Topic1\", \"Topic1\", \"Topic1\", \"Topic1\", \"Topic1\", \"Topic1\", \"Topic2\", \"Topic2\", \"Topic2\", \"Topic2\", \"Topic2\", \"Topic2\", \"Topic2\", \"Topic2\", \"Topic2\", \"Topic2\", \"Topic2\", \"Topic2\", \"Topic2\", \"Topic2\", \"Topic2\", \"Topic2\", \"Topic2\", \"Topic2\", \"Topic2\", \"Topic2\", \"Topic2\", \"Topic2\", \"Topic2\", \"Topic2\", \"Topic2\", \"Topic2\", \"Topic2\"], \"logprob\": [10.0, 9.0, 8.0, 7.0, 6.0, 5.0, 4.0, 3.0, 2.0, 1.0, -4.096099853515625, -4.184899806976318, -4.309299945831299, -4.31689977645874, -4.390699863433838, -4.410600185394287, -4.44950008392334, -4.450699806213379, -4.455599784851074, -4.495999813079834, -5.690400123596191, -5.686600208282471, -5.686600208282471, -5.685299873352051, -5.685299873352051, -5.679999828338623, -5.679999828338623, -5.679999828338623, -5.679999828338623, -5.688700199127197, -5.6859002113342285, -5.6859002113342285, -5.6859002113342285, -5.675000190734863, -5.6717000007629395, -5.668600082397461, -5.651599884033203, -5.656799793243408, -5.679299831390381, -5.651800155639648, -5.664899826049805, -5.668099880218506, -5.669400215148926, -5.668300151824951, -5.663400173187256, -5.660399913787842, -5.6682000160217285], \"loglift\": [10.0, 9.0, 8.0, 7.0, 6.0, 5.0, 4.0, 3.0, 2.0, 1.0, 0.07649999856948853, 0.07460000365972519, 0.07159999758005142, 0.0714000016450882, 0.06949999928474426, 0.06889999657869339, 0.06780000030994415, 0.06780000030994415, 0.06759999692440033, 0.06639999896287918, 0.9365000128746033, 0.8906999826431274, 0.8906999826431274, 0.8698999881744385, 0.8698999881744385, 0.8615000247955322, 0.8615000247955322, 0.8615000247955322, 0.8615000247955322, 0.8590999841690063, 0.8557999730110168, 0.8557999730110168, 0.8557999730110168, 0.7795000076293945, 0.728600025177002, 0.6463000178337097, 0.362199991941452, 0.36570000648498535, 0.770799994468689, 0.19449999928474426, 0.4586000144481659, 0.5544999837875366, 0.5672000050544739, 0.5144000053405762, 0.34290000796318054, 0.07129999995231628, -0.7044000029563904]}, \"token.table\": {\"Topic\": [1, 1, 1, 1, 1, 1, 1, 1, 1, 1, 1, 1, 1, 1, 1, 1, 1, 1, 1, 1, 1, 1, 1, 1, 1, 1, 1, 1, 1], \"Freq\": [1.488803505897522, 0.9119150638580322, 0.8977875113487244, 0.7914514541625977, 0.7226122617721558, 0.9581655263900757, 1.1344496011734009, 1.0131372213363647, 1.0692733526229858, 0.8103870153427124, 0.8633291125297546, 1.4103097915649414, 0.9359920620918274, 0.8329854011535645, 1.2948042154312134, 0.950976550579071, 1.0330040454864502, 0.9429019689559937, 0.8320186138153076, 1.005935788154602, 1.0727388858795166, 0.7766657471656799, 1.0740106105804443, 0.9164189696311951, 1.197357177734375, 1.1807422637939453, 0.9947136044502258, 0.9664698839187622, 1.4822736978530884], \"Term\": [\"admit\", \"bad\", \"beef\", \"body\", \"canola\", \"carb\", \"compare\", \"cook\", \"crumble\", \"fill\", \"food\", \"future\", \"good\", \"help\", \"household\", \"kill\", \"like\", \"meat\", \"opening\", \"package\", \"pet\", \"rating\", \"red_meat\", \"restaurant\", \"serve\", \"size\", \"smell\", \"unhealth\", \"wish\"]}, \"R\": 10, \"lambda.step\": 0.01, \"plot.opts\": {\"xlab\": \"PC1\", \"ylab\": \"PC2\"}, \"topic.order\": [1, 2]};\n",
       "\n",
       "function LDAvis_load_lib(url, callback){\n",
       "  var s = document.createElement('script');\n",
       "  s.src = url;\n",
       "  s.async = true;\n",
       "  s.onreadystatechange = s.onload = callback;\n",
       "  s.onerror = function(){console.warn(\"failed to load library \" + url);};\n",
       "  document.getElementsByTagName(\"head\")[0].appendChild(s);\n",
       "}\n",
       "\n",
       "if(typeof(LDAvis) !== \"undefined\"){\n",
       "   // already loaded: just create the visualization\n",
       "   !function(LDAvis){\n",
       "       new LDAvis(\"#\" + \"ldavis_el157121890992859392684559877\", ldavis_el157121890992859392684559877_data);\n",
       "   }(LDAvis);\n",
       "}else if(typeof define === \"function\" && define.amd){\n",
       "   // require.js is available: use it to load d3/LDAvis\n",
       "   require.config({paths: {d3: \"https://cdnjs.cloudflare.com/ajax/libs/d3/3.5.5/d3.min\"}});\n",
       "   require([\"d3\"], function(d3){\n",
       "      window.d3 = d3;\n",
       "      LDAvis_load_lib(\"https://cdn.rawgit.com/bmabey/pyLDAvis/files/ldavis.v1.0.0.js\", function(){\n",
       "        new LDAvis(\"#\" + \"ldavis_el157121890992859392684559877\", ldavis_el157121890992859392684559877_data);\n",
       "      });\n",
       "    });\n",
       "}else{\n",
       "    // require.js not available: dynamically load d3 & LDAvis\n",
       "    LDAvis_load_lib(\"https://cdnjs.cloudflare.com/ajax/libs/d3/3.5.5/d3.min.js\", function(){\n",
       "         LDAvis_load_lib(\"https://cdn.rawgit.com/bmabey/pyLDAvis/files/ldavis.v1.0.0.js\", function(){\n",
       "                 new LDAvis(\"#\" + \"ldavis_el157121890992859392684559877\", ldavis_el157121890992859392684559877_data);\n",
       "            })\n",
       "         });\n",
       "}\n",
       "</script>"
      ],
      "text/plain": [
       "<IPython.core.display.HTML object>"
      ]
     },
     "execution_count": 227,
     "metadata": {},
     "output_type": "execute_result"
    }
   ],
   "source": [
    "# Print Lda Vis\n",
    "vis = gensimvis.prepare(optimal_model_N, doc_term_matrix_tfidf_N, corpus_dictionary_N, mds=\"mmds\", R=10) #mds=\"tsne\"\n",
    "pyLDAvis.display(vis)"
   ]
  },
  {
   "cell_type": "code",
   "execution_count": 228,
   "metadata": {},
   "outputs": [],
   "source": [
    "output_file = open(\"df_ModelInfo_N.pickle\", \"wb\")\n",
    "pickle.dump(df_ModelInfo_N, output_file)\n",
    "output_file.close()\n",
    "\n",
    "output_file1 = open(\"doc_term_matrix_tfidf_N.pickle\", \"wb\")\n",
    "pickle.dump(doc_term_matrix_tfidf_N, output_file1)\n",
    "output_file1.close()"
   ]
  },
  {
   "cell_type": "markdown",
   "metadata": {},
   "source": [
    "### K-means Analysis Negative"
   ]
  },
  {
   "cell_type": "code",
   "execution_count": 229,
   "metadata": {
    "scrolled": true
   },
   "outputs": [
    {
     "name": "stdout",
     "output_type": "stream",
     "text": [
      "0 : meat, beef, taste_like, flavor, bad, cook, taste, hard, substitute, good\n",
      "1 : pet, food, smell_like, bad, smell, like, time, expensive, taste, cook\n",
      "2 : bad, smell, cook, good, taste_bad, time, red_meat, open, aftertaste, away\n",
      "3 : like, red_meat, food, taste, meat, texture, good, can, smell, vegetarian\n",
      "4 : fat, salt, health, vegan, nutrition, save, like, can, meat, read\n",
      "5 : smell_bad, chili, grease, bad, high, red_meat, taste, recipe, seasoning, spice\n",
      "6 : bad, good, meat, oil, price, like, no, canola, vegetarian, juice\n"
     ]
    },
    {
     "name": "stderr",
     "output_type": "stream",
     "text": [
      "C:\\Users\\rgpih\\anaconda3a\\lib\\site-packages\\sklearn\\cluster\\_kmeans.py:792: FutureWarning: 'n_jobs' was deprecated in version 0.23 and will be removed in 1.0 (renaming of 0.25).\n",
      "  warnings.warn(\"'n_jobs' was deprecated in version 0.23 and will be\"\n"
     ]
    }
   ],
   "source": [
    "# https://towardsdatascience.com/k-means-clustering-chardonnay-reviews-using-scikit-learn-nltk-9df3c59527f3\n",
    "from sklearn.cluster import KMeans\n",
    "from sklearn import preprocessing, decomposition, model_selection, metrics, pipeline\n",
    "from sklearn.feature_extraction.text import TfidfVectorizer, CountVectorizer\n",
    "from sklearn.cluster import KMeans\n",
    "\n",
    "\n",
    "# doc_clean_tokenized_Lem = [review.split() for review in df_reviews[\"TextClean3\"]]\n",
    "# doc_tokenized = [review.split() for review in df_reviews[\"Text\"]]\n",
    "\n",
    "df = pd.DataFrame()\n",
    "#  split_text = \" \".join(split_text)\n",
    "#  clean_desc.append(split_text)\n",
    "\n",
    "ls_of_texts = df_reviews_N.TextClean4.values.tolist()\n",
    "clean_desc = []\n",
    "\n",
    "clean_desc = ls_of_texts\n",
    "#TF-IDF vectorizer\n",
    "tfv = TfidfVectorizer(ngram_range = (1,1))\n",
    "#transform\n",
    "vec_text = tfv.fit_transform(clean_desc)\n",
    "#returns a list of words.\n",
    "words = tfv.get_feature_names()\n",
    "\n",
    "#setup kmeans clustering\n",
    "kmeans = KMeans(n_clusters = 7, n_init = 17, n_jobs = -1, tol = 0.01, max_iter = 200)\n",
    "#fit the data \n",
    "kmeans.fit(vec_text)\n",
    "#this loop transforms the numbers back into words\n",
    "common_words = kmeans.cluster_centers_.argsort()[:,-1:-11:-1]\n",
    "for num, centroid in enumerate(common_words):\n",
    "    print(str(num) + ' : ' + ', '.join(words[word] for word in centroid))\n",
    "    \n",
    "#add the cluster label to the data frame\n",
    "df['cluster'] = kmeans.labels_\n",
    "clusters = df.groupby(['cluster']).size()"
   ]
  },
  {
   "cell_type": "code",
   "execution_count": 230,
   "metadata": {},
   "outputs": [
    {
     "data": {
      "image/png": "[encoded data removed]",
      "text/plain": [
       "<Figure size 432x432 with 1 Axes>"
      ]
     },
     "metadata": {
      "needs_background": "light"
     },
     "output_type": "display_data"
    }
   ],
   "source": [
    "# Run the Kmeans algorithm and get the index of data points clusters\n",
    "sse = []\n",
    "list_k = list(range(1, 10))\n",
    "\n",
    "for k in list_k:\n",
    "    km = KMeans(n_clusters=k)\n",
    "    km.fit(vec_text)\n",
    "    sse.append(km.inertia_)\n",
    "\n",
    "# Plot sse against k\n",
    "plt.figure(figsize=(6, 6))\n",
    "plt.plot(list_k, sse, '-o')\n",
    "plt.xlabel(r'Number of clusters *k*')\n",
    "plt.ylabel('Sum of squared distance');"
   ]
  },
  {
   "cell_type": "code",
   "execution_count": null,
   "metadata": {},
   "outputs": [],
   "source": []
  },
  {
   "cell_type": "markdown",
   "metadata": {
    "heading_collapsed": true
   },
   "source": [
    "#### Get Topic Words"
   ]
  },
  {
   "cell_type": "code",
   "execution_count": null,
   "metadata": {
    "hidden": true,
    "scrolled": true
   },
   "outputs": [],
   "source": [
    "# Get Topic words into dataframe\n",
    "df_all = pd.DataFrame()\n",
    "for topic_idx, topic in enumerate(optimal_model.show_topics(formatted=False)):\n",
    "    df = pd.DataFrame(topic[1], columns =['word', 'Percent'])\n",
    "    df['Topic'] = topic_idx\n",
    "    df_all = df_all.append(df)\n",
    "\n",
    "df_all['Percent'] = df_all['Percent'].astype(float).round(2)\n",
    "# df_all\n",
    "\n",
    "\n",
    "# # Additional Misc ways to view in df format\n",
    "#     df_Currtopic = df_all[df_all['Topic']==2]\n",
    "#     df_Currtopic = df_Currtopic.sort_values(by=\"Percent\", ascending=False)\n",
    "#     curTopic_CS = pd.crosstab(df_Currtopic.Topic,df_Currtopic.word, values=df_Currtopic.Percent, aggfunc='max').round(2).reset_index()\n",
    "#     df_Currtopic"
   ]
  },
  {
   "cell_type": "code",
   "execution_count": null,
   "metadata": {
    "hidden": true
   },
   "outputs": [],
   "source": [
    "df_all"
   ]
  },
  {
   "cell_type": "code",
   "execution_count": null,
   "metadata": {
    "hidden": true
   },
   "outputs": [],
   "source": [
    "df_allTopicWord =df_all[['word','Topic']]"
   ]
  },
  {
   "cell_type": "code",
   "execution_count": null,
   "metadata": {
    "hidden": true
   },
   "outputs": [],
   "source": [
    "# df_all[\"word\"].groupby.count()\n",
    "df_all['word1'] = df_all['word']\n",
    "dfall1 = df_all.groupby(['word'])['word1'].count()\n",
    "df_wordCount = dfall1.to_frame().reset_index()\n",
    "df_wordCount.columns=[\"word\", \"count\"]\n",
    "df_wordCount = df_wordCount.sort_values(by=\"count\", ascending=False)\n",
    "df_wordCount\n",
    "df_allTopicWord = df_all[[\"word\",\"Topic\"]]\n",
    "df_wordCount = df_wordCount.merge(df_allTopicWord, on=\"word\")\n",
    "df_wordCount\n",
    "# df_all_Crosstab = pd.crosstab(df_wordCount.Topic,df_wordCount.word, values=df_wordCount.word, aggfunc='count')\n",
    "# df_all_Crosstab.sort_values('count', ascending=False)"
   ]
  },
  {
   "cell_type": "code",
   "execution_count": null,
   "metadata": {
    "hidden": true,
    "scrolled": true
   },
   "outputs": [],
   "source": [
    "# Get Topic words into crosstab\n",
    "df_all_Crosstab = pd.crosstab(df_all.Topic,df_all.word, values=df_all.Percent, aggfunc='max').round(2)\n",
    "\n",
    "# # Misc additional Crosstab views\n",
    "#     dfall1 = df_all.groupby(['Topic','word'])['Percent'].max().unstack().fillna(0).round(2).reset_index()\n",
    "#     dfall1\n",
    "#     dfall2 = df_all.groupby(['Topic','word'])['Percent'].max().unstack().fillna(0).round(2)\n",
    "#     dfall2"
   ]
  }
 ],
 "metadata": {
  "kernelspec": {
   "display_name": "Python 3",
   "language": "python",
   "name": "python3"
  },
  "language_info": {
   "codemirror_mode": {
    "name": "ipython",
    "version": 3
   },
   "file_extension": ".py",
   "mimetype": "text/x-python",
   "name": "python",
   "nbconvert_exporter": "python",
   "pygments_lexer": "ipython3",
   "version": "3.8.3"
  }
 },
 "nbformat": 4,
 "nbformat_minor": 4
}
