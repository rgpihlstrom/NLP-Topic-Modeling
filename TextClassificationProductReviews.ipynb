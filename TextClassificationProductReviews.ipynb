{
 "cells": [
  {
   "cell_type": "markdown",
   "metadata": {},
   "source": [
    "### Table of Contents\n",
    "\n",
    "* [View Data Imbalance - Rated vs. Unrated](#Imbalance)\n",
    "* [Models](#Models)\n",
    "    * [Mixing Reviews To CLassify - Train - Validation](#TrainValidation)\n",
    "        * [Observations](#TrainValidationobs)\n",
    "    * [Using Only Rated Reviews To Classify Unrated Reviews](#TestTrain)\n",
    "        * [Observations](#TestTrainobs)\n",
    "* [Conclusions](#Conclusions)    \n"
   ]
  },
  {
   "cell_type": "markdown",
   "metadata": {},
   "source": [
    "# libraries"
   ]
  },
  {
   "cell_type": "code",
   "execution_count": 10,
   "metadata": {},
   "outputs": [],
   "source": [
    "import pandas as pd\n",
    "import numpy as np\n",
    "import pickle\n",
    "import sklearn\n",
    "from sklearn.metrics import precision_score, recall_score, confusion_matrix, classification_report, accuracy_score, f1_score\n",
    "from sklearn.model_selection import train_test_split, GridSearchCV\n",
    "from sklearn.feature_extraction.text import TfidfVectorizer, TfidfTransformer\n",
    "from sklearn import metrics\n",
    "from sklearn.ensemble import RandomForestClassifier\n",
    "from imblearn.pipeline import Pipeline\n",
    "from imblearn.over_sampling import SMOTE\n",
    "import matplotlib.pyplot as plt  \n",
    "from sklearn.metrics import plot_confusion_matrix"
   ]
  },
  {
   "cell_type": "code",
   "execution_count": 11,
   "metadata": {},
   "outputs": [],
   "source": [
    "with open('./data/df_reviews.pickle', 'rb') as f:\n",
    "    df_reviews = pickle.load(f)\n",
    "\n",
    "df_reviews_nonTwitter = df_reviews[df_reviews['Source']!='twitter']\n",
    "df_reviews_twitter = df_reviews[df_reviews['Source']=='twitter']"
   ]
  },
  {
   "cell_type": "markdown",
   "metadata": {},
   "source": [
    "# View Rated vs. Unrated Counts  <a class=\"anchor\" id=\"Imbalance\"></a>"
   ]
  },
  {
   "cell_type": "code",
   "execution_count": 12,
   "metadata": {
    "scrolled": false
   },
   "outputs": [
    {
     "data": {
      "image/png": "[encoded data removed]",
      "text/plain": [
       "<Figure size 432x288 with 1 Axes>"
      ]
     },
     "metadata": {},
     "output_type": "display_data"
    }
   ],
   "source": [
    "TotalRatedReviews = len(df_reviews_nonTwitter)\n",
    "TotalNonRatedReviews = len(df_reviews_twitter)\n",
    "\n",
    "# Pie chart, where the slices will be ordered and plotted counter-clockwise:\n",
    "labels = \"Rated Reviews 'Grocery Sites'\", \"Twitter Reviews - Not Rated\"\n",
    "sizes = [TotalRatedReviews, TotalNonRatedReviews]\n",
    "explode = (0, 0.1)  # only \"explode\" the 2nd slice (i.e. 'Hogs')\n",
    "\n",
    "fig1, ax1 = plt.subplots()\n",
    "ax1.pie(sizes, explode=explode, labels=labels, autopct='%1.0f%%',\n",
    "        shadow=True, startangle=90, textprops={'fontsize': 20, 'color':'white', 'weight':'heavy'})\n",
    "ax1.axis('equal')  # Equal aspect ratio ensures that pie is drawn as a circle.\n",
    "\n",
    "plt.show()"
   ]
  },
  {
   "cell_type": "code",
   "execution_count": 13,
   "metadata": {},
   "outputs": [
    {
     "name": "stdout",
     "output_type": "stream",
     "text": [
      "Reviews containing a rating from reviewers : 1744\n",
      "Reviews from unrated sources (Twitter in our case) : 71\n"
     ]
    }
   ],
   "source": [
    "print(f'Reviews containing a rating from reviewers : {TotalRatedReviews}')\n",
    "print(f'Reviews from unrated sources (Twitter in our case) : {TotalNonRatedReviews}')"
   ]
  },
  {
   "cell_type": "markdown",
   "metadata": {},
   "source": [
    "# RF Classification - Mixing Twitter and Retailer Reviews To Create Model\n",
    "<a class=\"anchor\" id=\"Models\"></a>"
   ]
  },
  {
   "cell_type": "markdown",
   "metadata": {},
   "source": [
    "## Mixing Reviews (Retail & Precoded Twitter) To Create Model  <a class=\"anchor\" id=\"TrainValidation\"></a>"
   ]
  },
  {
   "cell_type": "code",
   "execution_count": 14,
   "metadata": {},
   "outputs": [
    {
     "name": "stdout",
     "output_type": "stream",
     "text": [
      "Train Score: 0.82\n",
      "Validation Score: 0.81\n"
     ]
    }
   ],
   "source": [
    " # Rf Params For Gridsearch\n",
    "# X = df_reviews['TextClean4']\n",
    "X = df_reviews['TextClean3']\n",
    "y = df_reviews['Class']\n",
    "X_train, X_test, y_train, y_test = train_test_split(X, y, test_size=0.2, random_state=42)\n",
    "\n",
    "# class_weights = compute_class_weight('balanced', classes = np.unique(y_train), y = np.ravel(y_train))\n",
    "# class_weights\n",
    "    \n",
    "hyp_params_rf = [{\n",
    "'criterion': ['gini'],\n",
    "'max_depth': [1], \n",
    "'n_estimators': [275], \n",
    "'min_samples_split': [2], \n",
    "'min_samples_leaf':[400], \n",
    "'max_features': [.2],# 1 \n",
    "'oob_score':[True],\n",
    "'bootstrap': [True],\n",
    "'random_state':[0],\n",
    "'class_weight':[{0:.58, 1:3.6}]\n",
    "}]    \n",
    "\n",
    "\n",
    "vectorizer = TfidfVectorizer(norm='l1')\n",
    "\n",
    "X_train_tfidf = vectorizer.fit_transform(X_train) # remember to use the original X_train set\n",
    "X_test_tfidf = vectorizer.transform(X_test) # remember to use the original X_train set\n",
    "X_train_tfidf.shape\n",
    "\n",
    "estimator = RandomForestClassifier()\n",
    "gridF = GridSearchCV(estimator=estimator, param_grid=hyp_params_rf, scoring=\"recall\",cv = 10, n_jobs = -1)\n",
    "\n",
    "\n",
    "Rf_MixedReviewsModel = gridF.fit(X_train_tfidf, y_train)\n",
    "\n",
    "modelscore_Train = round(Rf_MixedReviewsModel.score(X_train_tfidf, y_train),2)\n",
    "modelscore_Test = round(Rf_MixedReviewsModel.score(X_test_tfidf, y_test),2)\n",
    "\n",
    "print(f'Train Score: {modelscore_Train}')\n",
    "print(f'Validation Score: {modelscore_Test}')   \n",
    "# print(\"Best Parameters: \\n{}\\n\".format(bestF.best_params_))\n"
   ]
  },
  {
   "cell_type": "code",
   "execution_count": 15,
   "metadata": {},
   "outputs": [
    {
     "name": "stdout",
     "output_type": "stream",
     "text": [
      "Accuracy: 0.63\n",
      "F1 score: 0.42\n",
      "Recall: 0.81\n",
      "Precision: 0.28\n"
     ]
    }
   ],
   "source": [
    "predictions = Rf_MixedReviewsModel.predict(X_test_tfidf)\n",
    "print (f'Accuracy: {round(accuracy_score(y_test, predictions),2)}')\n",
    "print (f'F1 score: {round(f1_score(y_test, predictions),2)}')\n",
    "print (f'Recall: {round(recall_score(y_test, predictions),2)}')\n",
    "print (f'Precision: {round(precision_score(y_test, predictions),2)}')\n",
    "# print (f'\\n clasification report: \\n  {classification_report(y_test,predictions)}')\n",
    "# print (f'\\n confussion matrix: \\n {confusion_matrix(y_test, predictions)}')\n"
   ]
  },
  {
   "cell_type": "code",
   "execution_count": 16,
   "metadata": {
    "scrolled": true
   },
   "outputs": [
    {
     "data": {
      "image/png": "[encoded data removed]",
      "text/plain": [
       "<Figure size 432x288 with 2 Axes>"
      ]
     },
     "metadata": {
      "needs_background": "light"
     },
     "output_type": "display_data"
    }
   ],
   "source": [
    "plot_confusion_matrix(Rf_MixedReviewsModel, X_test_tfidf, y_test, normalize=\"true\")  \n",
    "plt.show()"
   ]
  },
  {
   "cell_type": "code",
   "execution_count": 17,
   "metadata": {
    "scrolled": true
   },
   "outputs": [
    {
     "data": {
      "image/png": "[encoded data removed]",
      "text/plain": [
       "<Figure size 432x288 with 2 Axes>"
      ]
     },
     "metadata": {
      "needs_background": "light"
     },
     "output_type": "display_data"
    }
   ],
   "source": [
    "plot_confusion_matrix(Rf_MixedReviewsModel, X_test_tfidf, y_test)  \n",
    "plt.show()"
   ]
  },
  {
   "cell_type": "markdown",
   "metadata": {},
   "source": []
  },
  {
   "cell_type": "markdown",
   "metadata": {},
   "source": [
    "### Test - Using Mixed Model/Data On Twitter Reviews"
   ]
  },
  {
   "cell_type": "code",
   "execution_count": 18,
   "metadata": {},
   "outputs": [
    {
     "name": "stdout",
     "output_type": "stream",
     "text": [
      "\n",
      " TEST \n",
      "\n",
      "Accuracy: 0.51\n",
      "F1 score: 0.53\n",
      "Recall: 0.87\n",
      "Precision: 0.38\n"
     ]
    }
   ],
   "source": [
    "# X_train = df_reviews_nonTwitter['TextClean3']\n",
    "# y_train = df_reviews_nonTwitter['Class']\n",
    "X_test_Tw = df_reviews_twitter['TextClean3']\n",
    "y_test_Tw = df_reviews_twitter['Class']\n",
    "\n",
    "X_test_tfidf_Tw = vectorizer.transform(X_test_Tw)\n",
    "\n",
    "predictions_TW = Rf_MixedReviewsModel.predict(X_test_tfidf_Tw)\n",
    "\n",
    "print ('\\n TEST \\n')\n",
    "print (f'Accuracy: {round(accuracy_score(y_test_Tw, predictions_TW),2)}')\n",
    "print (f'F1 score: {round(f1_score(y_test_Tw, predictions_TW),2)}')\n",
    "print (f'Recall: {round(recall_score(y_test_Tw, predictions_TW),2)}')\n",
    "print (f'Precision: {round(precision_score(y_test_Tw, predictions_TW),2)}')\n",
    "# print (f'\\n clasification report: \\n  {round(classification_report(y_test_Tw,predictions_TW),2)}')\n",
    "# print (f'\\n confussion matrix: \\n {round(confusion_matrix(y_test_Tw, predictions_TW),2)}')"
   ]
  },
  {
   "cell_type": "code",
   "execution_count": 19,
   "metadata": {},
   "outputs": [
    {
     "data": {
      "image/png": "[encoded data removed]",
      "text/plain": [
       "<Figure size 432x288 with 2 Axes>"
      ]
     },
     "metadata": {
      "needs_background": "light"
     },
     "output_type": "display_data"
    }
   ],
   "source": [
    "clf = Rf_MixedReviewsModel.best_estimator_\n",
    "plot_confusion_matrix(clf, X_test_tfidf_Tw, y_test_Tw, normalize=\"true\")  \n",
    "plt.show()"
   ]
  },
  {
   "cell_type": "markdown",
   "metadata": {},
   "source": [
    "## Observations <a class=\"anchor\" id=\"TrainValidationobs\"></a> "
   ]
  },
  {
   "cell_type": "markdown",
   "metadata": {},
   "source": [
    "Comments: Per the above results by mixing rated and unrated reviews we are able to eliminate overfitting and get recall of 87% on unrated twitter reviews.   This is somewhat expected as the training dataset and the validation set contain some of the exact same reviews.  Did this step as a precursor to the below, using only rated reviews to classify rated reviews.\n",
    "\n",
    "Why Recall:  For this project, given the business context to minimized missed negative comments, I am selecting recall as my key measure for accuracy/ model effectiveness."
   ]
  },
  {
   "cell_type": "markdown",
   "metadata": {},
   "source": [
    "# RF Classification - Using RetailOnly Data On Twitter Reviews <a class=\"anchor\" id=\"TestTrain\"></a>"
   ]
  },
  {
   "cell_type": "code",
   "execution_count": 20,
   "metadata": {},
   "outputs": [
    {
     "name": "stdout",
     "output_type": "stream",
     "text": [
      "Train Score: 0.82\n",
      "Test Score: 0.83\n"
     ]
    }
   ],
   "source": [
    "X_train = df_reviews_nonTwitter['TextClean3']\n",
    "y_train = df_reviews_nonTwitter['Class']\n",
    "X_test = df_reviews_twitter['TextClean3']\n",
    "y_test_Tw1 = df_reviews_twitter['Class']\n",
    "\n",
    "# class_weights = compute_class_weight('balanced', classes = np.unique(y_train), y = np.ravel(y_train))\n",
    "# class_weights\n",
    "    \n",
    "hyp_params_rf = [{\n",
    "'criterion': ['gini'],\n",
    "'max_depth': [1], \n",
    "'n_estimators': [500], \n",
    "'min_samples_split': [2], \n",
    "'min_samples_leaf':[500], \n",
    "'max_features': [.2],# 1 \n",
    "'oob_score':[True],\n",
    "'bootstrap': [True],\n",
    "'random_state':[0],\n",
    "'class_weight':[{0:.58, 1:3.6}]\n",
    "}]    \n",
    "\n",
    "\n",
    "vectorizer = TfidfVectorizer(norm='l1')\n",
    "\n",
    "X_train_tfidf = vectorizer.fit_transform(X_train) # remember to use the original X_train set\n",
    "X_test_tfidf_TW1 = vectorizer.transform(X_test) # remember to use the original X_train set\n",
    "\n",
    "estimator = RandomForestClassifier()\n",
    "gridF = GridSearchCV(estimator=estimator, param_grid=hyp_params_rf, scoring=\"recall\",cv = 10, n_jobs = -1)\n",
    "\n",
    "\n",
    "Rf_RetailOnlyModel = gridF.fit(X_train_tfidf, y_train)\n",
    "\n",
    "modelscore_Train = round(Rf_RetailOnlyModel.score(X_train_tfidf, y_train),2)\n",
    "modelscore_Test = round(Rf_RetailOnlyModel.score(X_test_tfidf_TW1, y_test_Tw1),2)\n",
    "\n",
    "print(f'Train Score: {modelscore_Train}')\n",
    "print(f'Test Score: {modelscore_Test}')   \n",
    "# print(\"Best Parameters: \\n{}\\n\".format(bestF.best_params_))\n"
   ]
  },
  {
   "cell_type": "code",
   "execution_count": 21,
   "metadata": {},
   "outputs": [
    {
     "name": "stdout",
     "output_type": "stream",
     "text": [
      "\n",
      " TEST \n",
      "\n",
      "Accuracy: 0.55\n",
      "F1 score: 0.54\n",
      "Recall: 0.83\n",
      "Precision: 0.4\n"
     ]
    }
   ],
   "source": [
    "predictions_TW1 = Rf_RetailOnlyModel.predict(X_test_tfidf_TW1)\n",
    "\n",
    "print ('\\n TEST \\n')\n",
    "print (f'Accuracy: {round(accuracy_score(y_test_Tw1, predictions_TW1),2)}')\n",
    "print (f'F1 score: {round(f1_score(y_test_Tw1, predictions_TW1),2)}')\n",
    "print (f'Recall: {round(recall_score(y_test_Tw1, predictions_TW1),2)}')\n",
    "print (f'Precision: {round(precision_score(y_test_Tw1, predictions_TW1),2)}')\n"
   ]
  },
  {
   "cell_type": "code",
   "execution_count": 22,
   "metadata": {},
   "outputs": [
    {
     "data": {
      "image/png": "[encoded data removed]",
      "text/plain": [
       "<Figure size 432x288 with 2 Axes>"
      ]
     },
     "metadata": {
      "needs_background": "light"
     },
     "output_type": "display_data"
    }
   ],
   "source": [
    "clf = Rf_RetailOnlyModel.best_estimator_\n",
    "plot_confusion_matrix(clf, X_test_tfidf_TW1, y_test_Tw1, normalize=\"true\")  \n",
    "plt.show()"
   ]
  },
  {
   "cell_type": "markdown",
   "metadata": {},
   "source": [
    "## Observations <a class=\"anchor\" id=\"TestTrainobs\"></a> "
   ]
  },
  {
   "cell_type": "markdown",
   "metadata": {},
   "source": [
    "Per the above results by only using rated reviews to classify unrated reviews we are able to eliminate overfitting (82% & 83%) and get recall of 83% on unrated twitter reviews.  This is great news as it may allow us to get more reviews from social media sites, that are plump with sentiments and ideas for innovation, but no ability for the reviewing to make a quantified response, positive or negative.  With this model we will be able to at least understand whether a consumer viewed the product as positive or negative."
   ]
  },
  {
   "cell_type": "markdown",
   "metadata": {},
   "source": [
    "# Key Word Analysis/ Feature Selection"
   ]
  },
  {
   "cell_type": "code",
   "execution_count": 52,
   "metadata": {},
   "outputs": [
    {
     "data": {
      "text/html": [
       "<div>\n",
       "<style scoped>\n",
       "    .dataframe tbody tr th:only-of-type {\n",
       "        vertical-align: middle;\n",
       "    }\n",
       "\n",
       "    .dataframe tbody tr th {\n",
       "        vertical-align: top;\n",
       "    }\n",
       "\n",
       "    .dataframe thead th {\n",
       "        text-align: right;\n",
       "    }\n",
       "</style>\n",
       "<table border=\"1\" class=\"dataframe\">\n",
       "  <thead>\n",
       "    <tr style=\"text-align: right;\">\n",
       "      <th></th>\n",
       "      <th>features</th>\n",
       "      <th>coef</th>\n",
       "    </tr>\n",
       "  </thead>\n",
       "  <tbody>\n",
       "    <tr>\n",
       "      <th>1723</th>\n",
       "      <td>meat</td>\n",
       "      <td>0.480874</td>\n",
       "    </tr>\n",
       "    <tr>\n",
       "      <th>1226</th>\n",
       "      <td>good</td>\n",
       "      <td>0.459016</td>\n",
       "    </tr>\n",
       "    <tr>\n",
       "      <th>2836</th>\n",
       "      <td>taste</td>\n",
       "      <td>0.060109</td>\n",
       "    </tr>\n",
       "    <tr>\n",
       "      <th>0</th>\n",
       "      <td>abilities</td>\n",
       "      <td>0.000000</td>\n",
       "    </tr>\n",
       "    <tr>\n",
       "      <th>2153</th>\n",
       "      <td>prior</td>\n",
       "      <td>0.000000</td>\n",
       "    </tr>\n",
       "    <tr>\n",
       "      <th>2144</th>\n",
       "      <td>pretending</td>\n",
       "      <td>0.000000</td>\n",
       "    </tr>\n",
       "    <tr>\n",
       "      <th>2145</th>\n",
       "      <td>pretzel</td>\n",
       "      <td>0.000000</td>\n",
       "    </tr>\n",
       "    <tr>\n",
       "      <th>2146</th>\n",
       "      <td>pretzilla</td>\n",
       "      <td>0.000000</td>\n",
       "    </tr>\n",
       "    <tr>\n",
       "      <th>2147</th>\n",
       "      <td>prevent</td>\n",
       "      <td>0.000000</td>\n",
       "    </tr>\n",
       "    <tr>\n",
       "      <th>2148</th>\n",
       "      <td>previous</td>\n",
       "      <td>0.000000</td>\n",
       "    </tr>\n",
       "  </tbody>\n",
       "</table>\n",
       "</div>"
      ],
      "text/plain": [
       "        features      coef\n",
       "1723        meat  0.480874\n",
       "1226        good  0.459016\n",
       "2836       taste  0.060109\n",
       "0      abilities  0.000000\n",
       "2153       prior  0.000000\n",
       "2144  pretending  0.000000\n",
       "2145     pretzel  0.000000\n",
       "2146   pretzilla  0.000000\n",
       "2147     prevent  0.000000\n",
       "2148    previous  0.000000"
      ]
     },
     "execution_count": 52,
     "metadata": {},
     "output_type": "execute_result"
    }
   ],
   "source": [
    "feature_names = vectorizer.get_feature_names()\n",
    "\n",
    "dictOfDfs_Importantfeatures = {}\n",
    "df_feature_importances = pd.concat([pd.DataFrame(feature_names, columns = [\"features\"]),\n",
    "                                    pd.DataFrame(np.transpose(Rf_RetailOnlyModel.best_estimator_.feature_importances_), columns = [\"coef\"])],axis = 1)\n",
    "\n",
    "df_feature_importances[\"coef\"] = df_feature_importances[\"coef\"]\n",
    "df_feature_importances = df_feature_importances.sort_values(by=\"coef\", ascending=False)\n",
    "df_feature_importances.head(10)\n",
    "\n",
    "\n",
    "# import matplotlib\n",
    "# matplotlib.rcParams['figure.figsize'] = (8.0, 10.0)\n",
    "# ax = df_feature_importances.plot(kind = \"barh\")\n",
    "# plt.title(\"Feature importance using Lasso Model\")\n",
    "# ax.set_yticklabels(df_feature_importances['features']);\n",
    "# plt.show();"
   ]
  },
  {
   "cell_type": "markdown",
   "metadata": {},
   "source": [
    "Observation:  Given the above three words were used by the model to create the classification"
   ]
  },
  {
   "cell_type": "markdown",
   "metadata": {},
   "source": [
    "# Conclusions <a class=\"anchor\" id=\"Conclusions\"></a> "
   ]
  },
  {
   "cell_type": "markdown",
   "metadata": {},
   "source": [
    "The above model offers the opportunity to avoid having to manually code data captured from social media sites that do not offer the users the ability to enter a rating themselves.  This rating was instrumental in my work as it was the only mechanism for me to sort the data into the required segments, positive and negative.  The segmenting of data into positive and negative was required for maximizing the insights discovered by the topic modeling algorithm.  As mentioned in a previous notebook, the topic modeling algorithm was not finding the topics associated with negative reviews due to being overshadowed by the larger quantities of positive reviews.  This model reduces the need for manual coding and opens the research up to using reviews from the vast number social media sites not specifically designed to capture reviews.  \n",
    "\n",
    "Why Recall:  As mentioned above, given the business context I believe missing the opportunity to \"dig into\"/ learn from a negative review is greater than missing the opportunity to learn from positive comments.  Therefore, recall was the priority over precision as my key measure for model accuracy/ effectiveness.  In this context, a false negative (type II error) represents, calling an actual negative review positive, which potentially means missing the opportunity to find innovation ideas from negative product attributes.  Missing this opportunity seems more costly than the alternative, a false positive, which in this case equals misclassifying an actual positive review as a negative (type I error) and thinking positive product attributes are negative.\n",
    "\n",
    "However, the cost of making either mistake, Type I or Type II, is low as each mistake only represents additional processes and or time spent conducting the hypothetical steps to review and consider how to handle insights gained from either positive or negative reviews.  In reality, innovation can be inspired by both negative and positive sentiments.\n"
   ]
  },
  {
   "cell_type": "code",
   "execution_count": null,
   "metadata": {},
   "outputs": [],
   "source": []
  }
 ],
 "metadata": {
  "kernelspec": {
   "display_name": "learn-env",
   "language": "python",
   "name": "learn-env"
  },
  "language_info": {
   "codemirror_mode": {
    "name": "ipython",
    "version": 3
   },
   "file_extension": ".py",
   "mimetype": "text/x-python",
   "name": "python",
   "nbconvert_exporter": "python",
   "pygments_lexer": "ipython3",
   "version": "3.8.3"
  }
 },
 "nbformat": 4,
 "nbformat_minor": 2
}
