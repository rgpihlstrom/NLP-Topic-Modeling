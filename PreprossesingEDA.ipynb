{
 "cells": [
  {
   "cell_type": "markdown",
   "metadata": {},
   "source": [
    "### Table of Contents\n",
    "* [Support Functions](#Functions)\n",
    "* [Preprocessing](#Preprocessing)\n",
    "* [Preprocessing Visuals](#PreprocessingVisuals)\n",
    "* [Normalization, Bigram - Trigram Creation](#BiGGramTriGrams1)\n",
    "* [Remove Irrelevant / Consolidate words](#RemoveConsolidateWOrds)\n",
    "* [Lemmatization](#Lemmatization)\n",
    "* [Conclusions](#Conclusions)    "
   ]
  },
  {
   "cell_type": "markdown",
   "metadata": {
    "heading_collapsed": true
   },
   "source": [
    "# Libraries"
   ]
  },
  {
   "cell_type": "code",
   "execution_count": 1,
   "metadata": {
    "hidden": true
   },
   "outputs": [],
   "source": [
    "import numpy as np\n",
    "import pandas as pd\n",
    "import seaborn as sns\n",
    "import pickle\n",
    "\n",
    "import nltk\n",
    "\n",
    "import string\n",
    "\n",
    "import re, warnings\n",
    "warnings.filterwarnings(\"ignore\",category=DeprecationWarning)\n",
    "\n",
    "import matplotlib.ticker as ticker\n",
    "import matplotlib.ticker as mtick\n",
    "\n",
    "from collections import defaultdict  # For word frequency\n",
    "from collections import Counter\n",
    "from itertools import chain\n",
    "from nltk.util import ngrams\n",
    "from nltk import word_tokenize\n",
    "from textblob import TextBlob\n",
    "\n",
    "\n",
    "# spacy for lemmatization\n",
    "import spacy\n",
    "nlp = spacy.load('en_core_web_lg')\n",
    "\n",
    "from gensim.models.phrases import Phrases, Phraser\n",
    "\n",
    "\n",
    "import matplotlib.pyplot as plt\n",
    "from wordcloud import WordCloud\n",
    "\n",
    "\n",
    "%matplotlib inline\n",
    "\n",
    "pd.set_option(\"max_rows\", None)\n",
    "pd.set_option('display.width', None)\n",
    "pd.set_option('max_columns', None)\n",
    "pd.set_option('max_colwidth', None)"
   ]
  },
  {
   "cell_type": "code",
   "execution_count": 2,
   "metadata": {
    "hidden": true,
    "scrolled": true
   },
   "outputs": [],
   "source": [
    "df_data = pd.read_excel('./data/tbl_Reviews-4-302.xlsx', sheet_name='ForExport')\n",
    "df_data = df_data.dropna(subset=['reviewBody'])\n",
    "\n",
    "df_reviews = df_data[['BrandForm','reviewTitles', 'reviewBody1', 'Rating','Product', 'Source','postdate', 'Class']]\n",
    "df_reviews = df_reviews.rename(columns={\"reviewBody1\": \"Text\"})"
   ]
  },
  {
   "cell_type": "markdown",
   "metadata": {
    "heading_collapsed": true
   },
   "source": [
    "# Functions <a class=\"anchor\" id=\"Functions\"></a>"
   ]
  },
  {
   "cell_type": "code",
   "execution_count": 3,
   "metadata": {
    "hidden": true
   },
   "outputs": [],
   "source": [
    "def plotReviews(df_BrandFormCountTotals):\n",
    "    \"\"\"This function creates the grph of the reviews, takes in a dataframe\"\"\"\n",
    "    fig, ax = plt.subplots(1, 1, figsize=(15, 3))\n",
    "\n",
    "    ax = sns.barplot(x=\"BrandForm\", y=\"BF_Cnt\", data=df_BrandFormCountTotals);\n",
    "    for p in ax.patches:\n",
    "        #print(p.get_height())\n",
    "        percentage = '{:.0f}'.format(p.get_height())\n",
    "\n",
    "        x = p.get_x() + p.get_width() - .2\n",
    "        y = p.get_y() + p.get_height() \n",
    "        ax.annotate(percentage, (x, y), size=20, weight='bold',ha='right');\n",
    "\n",
    "        plt.xticks(fontsize =18)\n",
    "        plt.yticks(fontsize =15)\n",
    "        plt.fontsize =(35)\n",
    "        plt.title('Reviews By Brand',fontsize =30)\n",
    "        ax.axes.xaxis.set_visible(True)\n",
    "        ax.set_ylabel(\"Count\", size=15)\n",
    "        plt.xlabel (None)\n",
    "    #     fig.subplots_adjust(top=.25)\n",
    "    #plt.tight_layout();\n",
    "    fig.subplots_adjust(top=2)\n",
    "    plt.show();\n",
    "    ax.grid(False)\n",
    "\n",
    "def reviewSentimentByBrand_MutliClass():\n",
    "    \"\"\" This function generates a graph showing reviws by positive, negative, nuetral\"\"\"\n",
    "    fig, ax = plt.subplots(1, 1, figsize=(15, 2))\n",
    "    df_reviews_ByBrand_sorted = df_reviews_ByBrand.sort_values(by=['Order'])\n",
    "    ax = sns.barplot(x=\"BrandForm\", y=\"Sent_Freq\", hue=\"Sent\", data=df_reviews_ByBrand_sorted, palette=['#C00000','#CC8963','#5F9E6E']);\n",
    "    \n",
    "#     total = df_SentByBrand['Count'].sum()\n",
    "    for p in ax.patches:\n",
    "#         print(p.get_height())\n",
    "        percentage = '{:.0f}%'.format(100 * p.get_height())\n",
    "        \n",
    "#         print(percentage)\n",
    "        x = p.get_x() + p.get_width() - .2\n",
    "        y = p.get_y() + p.get_height()\n",
    "        ax.annotate(percentage, (x, y), size=20, weight='bold');\n",
    "    \n",
    "    plt.xticks(fontsize =18)\n",
    "    plt.yticks(fontsize =15)\n",
    "    plt.fontsize =(35)\n",
    "    plt.title('Sentiments By Brand',fontsize =30)\n",
    "    ax.axes.xaxis.set_visible(True)\n",
    "    ax.set_ylabel(\"% of Sentiments\", size=15)\n",
    "\n",
    "    plt.setp(ax.get_legend().get_texts(), fontsize='22') # for legend text\n",
    "    plt.setp(ax.get_legend().get_title(), fontsize='0') # for legend title\n",
    "    plt.legend(loc='upper left')\n",
    "    plt.xlabel (None)\n",
    "    ax.grid(False)\n",
    "    fig.subplots_adjust(top=3)\n",
    "\n",
    "    plt.show();\n",
    "    \n",
    "\n",
    "\n",
    "def removelowfrequenceywords(doc_clean_tokenized, i):\n",
    "    \"\"\" This function removes low frequency words, takes in a column and a number that words must be greater than\"\"\"\n",
    "    frequency = defaultdict(int)\n",
    "    for text in doc_clean_tokenized:\n",
    "        for token in text:\n",
    "            frequency[token] += 1\n",
    "    # Only keep words that appear more than ? insert\n",
    "    doc_clean_tokenized = [[token for token in text if frequency[token] > i] for text in doc_clean_tokenized]\n",
    "    \n",
    "    return doc_clean_tokenized\n",
    "\n",
    "def createLDAFromTFIDF(corpus_tfidf, NumbOfTopics):\n",
    "    \"\"\" This function stores the created models into a dataframe for future access\"\"\"\n",
    "    lda_model_tfidf = LdaMulticore(corpus_tfidf, num_topics=NumbOfTopics, \n",
    "                                   id2word=corpus_dictionary,minimum_probability=.2, random_state=100,\n",
    "                                  #update_every=1,\n",
    "                                   chunksize=100,passes=10,alpha='asymmetric',per_word_topics=True, \n",
    "                                   #n_jobs = -1\n",
    "                                  )\n",
    "    return lda_model_tfidf\n",
    "\n",
    "def createWordCloud(model):\n",
    "    \"\"\" This function creates a word cloud of the words associated with each topic\"\"\"\n",
    "    #create wordclouds for hld https://towardsdatascience.com/dont-be-afraid-of-nonparametric-topic-models-part-2-python-e5666db347a\n",
    "    for t in range(model.num_topics):\n",
    "        plt.figure()\n",
    "        plt.imshow(WordCloud().fit_words(dict(model.show_topic(t, 10))))\n",
    "        plt.axis(\"off\")\n",
    "        plt.title(\"Topic #\" + str(t))\n",
    "        plt.show()\n",
    "\n",
    "def evaluateCoherenceLDA(ldaModelToEvaluate):\n",
    "    \"\"\" This function generates a coherence score for each LDA model\"\"\"\n",
    "    #https://stackoverflow.com/questions/54762690/coherence-score-0-4-is-good-or-bad\n",
    "    coherencemodel = CoherenceModel(model=ldaModelToEvaluate, texts=doc_clean_tokenized_Lem, dictionary=corpus_dictionary, coherence='c_v')\n",
    "    Coherence = coherencemodel.get_coherence()\n",
    "    return Coherence\n",
    "\n",
    "def get_top_topic_per_review(ldamodel, corpus, texts):\n",
    "    '''ldamodel = the current model, corpus = doc_term_matrix, text = ls_of_textToUse'''\n",
    "    # Match reviews to dominate Topics\n",
    "    sent_topics_df = pd.DataFrame()\n",
    "\n",
    "    # Get main topic in each document\n",
    "    for i, row in enumerate(ldamodel[doc_term_matrix]):\n",
    "        row = sorted(row, key=lambda x: (x[1]), reverse=True)\n",
    "        \n",
    "        # Get the Dominant topic, Perc Contribution and Keywords for each document\n",
    "        for j, (topic_num, prop_topic) in enumerate(row):\n",
    "            if j == 0:  # => dominant topic\n",
    "                wp = ldamodel.show_topic(topic_num)\n",
    "                topic_keywords = \", \".join([word for word, prop in wp])\n",
    "                sent_topics_df = sent_topics_df.append(pd.Series([int(topic_num), round(prop_topic,4), topic_keywords]), ignore_index=True)\n",
    "            else:\n",
    "                break\n",
    "    sent_topics_df.columns = ['Dominant_Topic', 'Perc_Contribution', 'Topic_Keywords']\n",
    "\n",
    "    # Add original text to the end of the output\n",
    "    contents = pd.Series(texts)\n",
    "    sent_topics_df = pd.concat([sent_topics_df, contents], axis=1)\n",
    "    return(sent_topics_df)\n",
    "\n",
    "def removewordswithcertainCount2(df, count):\n",
    "    \"\"\"Removes words that do not have a specified count in the corpus\"\"\"\n",
    "    # split words into lists\n",
    "    v = df.str.split().tolist() # [s.split() for s in df['Col2'].tolist()]\n",
    "    # compute global word frequency\n",
    "    c = Counter(chain.from_iterable(v))\n",
    "    # filter, join, and re-assign\n",
    "    df = [' '.join([j for j in i if c[j] > count]) for i in v]\n",
    "    df = df\n",
    "    return df\n"
   ]
  },
  {
   "cell_type": "markdown",
   "metadata": {
    "heading_collapsed": true,
    "hidden": true
   },
   "source": [
    "### Contractions Used from Replacement"
   ]
  },
  {
   "cell_type": "code",
   "execution_count": 4,
   "metadata": {
    "hidden": true
   },
   "outputs": [],
   "source": [
    "# di = {\"searchingfor\":\"changeto\"}\n",
    "contraction_dict = {\"w/out\":\"with out\",\"gonna\":\"going to\",\n",
    "                    \n",
    "                    \"didnt\":\"did_not\", \"didn't\": \"did_not\",\n",
    "                    \"dont\":\"do_not\",\"do not\":\"do_not\",\n",
    "                    \"Don’t\":\"do_not\",\n",
    "                    \n",
    "                    \"Gotta\": \"have to\",\n",
    "                    \"ain't\": \"is_not\", \"aren't\": \"are_not\",\n",
    "                    \n",
    "                    \"can't\": \"can_not\", \n",
    "                    \"cant\": \"can_not\", \n",
    "                    \"can not\": \"can_not\", \n",
    "                    \n",
    "                    \"could've\": \"could have\", \" cause \": \" because \",\n",
    "                    \"couldn't\": \"could_not\",  \n",
    "                    \"doesn't\": \"does_not\", \"don't\": \"do_not\", \n",
    "                    \n",
    "                    \"hadn't\": \"had_not\", \"hasn't\": \"has_not\", \"havent\": \"have_not\",\n",
    "                    \"hadn’t\": \"had_not\",\n",
    "                    \n",
    "                    \"haven't\": \"have_not\", \"he'd\": \"he would\",\"he'll\": \n",
    "                    \"he will\", \"he's\": \"he is\", \"how'd\": \"how did\", \n",
    "                    \"how'd'y\": \"how do you\", \"how'll\": \"how will\", \n",
    "                    \"how's\": \"how is\",  \"i'd\": \"i would\", \"i'd've\": \n",
    "                    \"i would have\", \"i'll\": \"i will\", \"i'll've\": \n",
    "                    \"i will have\",\"i'm\": \"i am\", \"i've\": \n",
    "                    \"i have\", \"i'd\": \"i would\", \"i'd've\": \n",
    "                    \"i would have\", \n",
    "                    \"i'll\": \"i will\",  \" ill \":\" i will \",\n",
    "                    \n",
    "                    \"i'll've\": \"i will have\",\"I’ve\":\"i have\",\n",
    "                    \n",
    "                    \"i'm\": \"i am\", \"i've\": \"i have\", \n",
    "                    \" i’m\": \"i am\",\n",
    "                    \n",
    "                    \"isn't\": \"is_not\", \"isn’t\":\"is_not\",\n",
    "                    \n",
    "                    \n",
    "                    \"it'd\": \"it would\", \"it'd've\": \n",
    "                    \"it would have\", \"it'll\": \"it will\", \"it'll've\": \n",
    "                    \"it will have\",\"it's\": \"it is\", \"let's\": \"let us\", \n",
    "                    \"ma'am\": \"madam\", \"mayn't\": \"may not\", \"might've\": \n",
    "                    \"might have\",\"mightn't\": \"might not\",\"mightn't've\": \n",
    "                    \"might_not_have\", \"must've\": \"must_have\", \"mustn't\": \n",
    "                    \"must_not\", \"mustn't've\": \"must not have\", \"needn't\": \n",
    "                    \"need not\", \"needn't've\": \"need not have\",\"o'clock\": \n",
    "                    \"of the clock\", \"oughtn't\": \"ought_not\", \"oughtn't've\": \n",
    "                    \"ought not have\", \"shan't\": \"shall_not\", \"sha'n't\": \n",
    "                    \"shall not\", \"shan't've\": \"shall_not have\", \"she'd\": \n",
    "                    \"she would\", \"she'd've\": \"she would have\", \"she'll\": \n",
    "                    \"she will\", \"she'll've\": \"she will have\", \"she's\": \n",
    "                    \"she is\", \"should've\": \"should have\", \"shouldn't\": \n",
    "                    \"should_not\", \"shouldn't've\": \"should_not have\", \"so've\": \n",
    "                    \"so have\",\"so's\": \"so as\", \"this's\": \"this is\",\"that'd\": \n",
    "                    \"that would\", \"that'd've\": \"that would have\", \"that's\": \n",
    "                    \"that is\", \"there'd\": \"there would\", \"there'd've\": \"there would have\", \n",
    "                    \"there's\": \"there is\", \"here's\": \"here is\",\"they'd\": \"they would\", \n",
    "                    \"they'd've\": \"they would have\", \"they'll\": \"they will\", \"they'll've\": \n",
    "                    \"they will have\", \n",
    "                    \n",
    "                    \"they're\": \"they are\", \"they’re\":\"they are\", \"they've\": \"they have\", \"to've\":\n",
    "                    \"to have\", \"wasn't\": \"was_not\", \"wasn’t\":\"was_not\",\n",
    "                    \n",
    "                    \n",
    "                    \"we'd\": \"we would\",\n",
    "                    \"we'd've\": \"we would have\", \"we'll\": \"we will\", \"we'll've\": \n",
    "                    \"we will have\", \"we're\": \"we are\", \"we've\": \"we have\",\n",
    "                    \"werent\":\"were_not\",\n",
    "                    \"weren't\": \"were_not\", \n",
    "                    \n",
    "                    \"what'll\": \"what will\",\n",
    "                    \"what'll've\": \"what will have\", \"what're\": \"what are\",  \n",
    "                    \"what's\": \"what is\", \"what've\": \"what have\", \n",
    "                    \"when's\": \"when is\", \"when've\": \"when have\", \n",
    "                    \"where'd\": \"where did\", \"where's\": \"where is\",\n",
    "                    \"where've\": \"where have\", \"who'll\": \"who will\",\n",
    "                    \"who'll've\": \"who will have\", \"who's\": \"who is\",\n",
    "                    \"who've\": \"who have\", \"why's\": \"why is\", \"why've\": \n",
    "                    \"why have\", \"will've\": \"will have\", \"won't\": \n",
    "                    \"will_not\",  \"wont\": \"will_not\",\n",
    "                    \n",
    "                    \"won't've\": \"will_not have\", \n",
    "                    \n",
    "                    \"would've\":\"would have\",  \"wouldve\": \"would have\", \n",
    "                    \n",
    "                    \"wouldn't\": \"would_not\",\"wouldn’t\":\"would_not\", 'wouldnt': \"would_not\",\n",
    "                    \"would’ve\":'would have', \n",
    "                    \n",
    "                    \n",
    "                    \"wouldn't've\": \"would_not have\", \"y'all\": \"you all\", \"y'all'd\": \n",
    "                    \"you all would\",\"y'all'd've\": \"you all would have\",\"y'all're\":\n",
    "                    \"you all are\",\"y'all've\": \"you all have\",\"you'd\": \"you would\", \n",
    "                    \"you'd've\": \"you would have\", \"you'll\": \"you will\", \"you'll've\": \n",
    "                    \"you will have\", \"you're\": \"you are\", \"you've\": \"you have\",\n",
    "                    \" im \": \" i am \", '1st':'first'\n",
    "                   }"
   ]
  },
  {
   "cell_type": "markdown",
   "metadata": {
    "heading_collapsed": true,
    "hidden": true
   },
   "source": [
    "### Clean Text Functions"
   ]
  },
  {
   "cell_type": "code",
   "execution_count": 5,
   "metadata": {
    "hidden": true
   },
   "outputs": [],
   "source": [
    "def tolower(text):\n",
    "    \"\"\"Lower texts\"\"\"\n",
    "    tolower = ' '.join([i.lower() for i in text.split()])\n",
    "    return tolower\n",
    "\n",
    "def replaceappostrophe(x):\n",
    "    \"\"\"Replaces words in corpus based on enclosed dictionary\"\"\"\n",
    "    dic = {\"’\":\"'\"}\n",
    "    for word in dic.keys():\n",
    "        x = x.replace(word, dic[word])\n",
    "    return x\n",
    "\n",
    "def clean(text):\n",
    "    \"\"\"Cleans texts\"\"\"\n",
    "    text = re.sub('[?!.,\"#$%\\'()*+-/:;<=>@[\\\\]^`{|}~]', ' ', text) # Removing\n",
    "    text = re.sub(r'[^A-Za-z0-9 ]+', '', text) # just added\n",
    "    text = re.sub(r'(�ïª7¼‹ãå9ó8òêìâáçI©è¢äüî¡¾ë£ùðš0„«»ôöœ´žàµ•¬ý¤\"“¥é€±,)', ' ', text) # just added\\\n",
    "#     textArr= text.split()\n",
    "#     text = ' '.join([w for w in textArr if ( not w.isdigit() and  ( not w.isdigit() and len(w)>3))]) \n",
    "    return text\n",
    "\n",
    "\n",
    "def correct_words(x):\n",
    "    \"\"\"Replaces words in corpus based on enclosed dictionary\"\"\"\n",
    "    dic = {'doesnt':'does not','instagram': 'social medium','whatsapp': 'social medium','snapchat': 'social medium',\n",
    "          'ipad2s':'ipad2', 'abt': 'about' , '1st': 'first'}\n",
    "    for word in dic.keys():\n",
    "        x = x.replace(word, dic[word])\n",
    "    return x\n",
    "\n",
    "\n",
    "\n",
    "\n",
    "def clean_numbers(x):\n",
    "    \"\"\"Removes Numbers from tweets\"\"\"\n",
    "    x = re.sub('[0-9]', '', x)\n",
    "#     x = re.sub('[0-9]{4}', '', x)\n",
    "#     x = re.sub('[0-9]{3}', '', x)\n",
    "#     x = re.sub('[0-9]{2}', '', x)\n",
    "    return x\n",
    "\n",
    "def replace_words(d, col):\n",
    "    \"\"\"Replaces words in corpus based on passed in dictionary\"\"\"\n",
    "    d1={r'(?<!\\S)'+ k.strip() + r'(?!\\S)':k1 for k1, v1 in d.items() for k in v1.split(',')}\n",
    "    df_reviews[col] = df_reviews[col].replace(d1, regex=True)\n",
    "    return df_reviews[col]\n",
    "\n",
    "\n",
    "\n",
    "def getSubjectivity(text):\n",
    "    \"\"\"This function calculates the subjectivey of a tweet\"\"\"\n",
    "    return TextBlob(text).sentiment.subjectivity\n",
    "\n",
    "# Create a function to get the polarity\n",
    "def getPolarity(text):\n",
    "    \"\"\"This function calculates the polarity of a tweet\"\"\"\n",
    "    return  TextBlob(text).sentiment.polarity\n",
    "\n",
    "def lemmatization(texts):\n",
    "    \"\"\"Performs lemmatization\"\"\"\n",
    "    texts_out = []\n",
    "    doc = nlp(texts)\n",
    "    #using spacey to lemmatize\n",
    "    texts_out.append([token.lemma_ for token in doc])\n",
    "    listToStr = ' '.join([str(elem) for elem in texts_out[0]])\n",
    "    return listToStr"
   ]
  },
  {
   "cell_type": "markdown",
   "metadata": {},
   "source": [
    "# Preprocessing <a class=\"anchor\" id=\"Preprocessing\"></a>"
   ]
  },
  {
   "cell_type": "code",
   "execution_count": 6,
   "metadata": {},
   "outputs": [],
   "source": [
    "df_reviews[\"TextClean\"] = df_reviews['Text']\n",
    "\n",
    "df_reviews[\"TextClean\"] = df_reviews[\"TextClean\"].apply(tolower)\n",
    "df_reviews[\"TextClean\"].replace(contraction_dict, inplace=True, regex=True)\n",
    "df_reviews[\"TextClean\"] = df_reviews[\"TextClean\"].apply(replaceappostrophe)\n",
    "df_reviews[\"TextClean\"] = df_reviews[\"TextClean\"].apply(clean)\n",
    "df_reviews[\"TextClean\"] = df_reviews[\"TextClean\"].apply(clean_numbers)\n",
    "df_reviews[\"Sent\"] = df_reviews[\"Rating\"].apply(lambda x: 'Pos' if x>=4 else 'Neg' if x<=2 else 'Neut')\n",
    "# df_reviews[\"Class\"] = df_reviews[\"Rating\"].apply(lambda x: 1 if x>=4 else 0)\n",
    "\n",
    "\n",
    "# #Create two new columns : 'Subjectivity' & 'Polarity'\n",
    "df_reviews['Subjectivity'] = df_reviews['TextClean'].apply(getSubjectivity)\n",
    "df_reviews['Polarity'] = df_reviews['TextClean'].apply(getPolarity)"
   ]
  },
  {
   "cell_type": "markdown",
   "metadata": {},
   "source": [
    "## Preprocessing Visuals  <a class=\"anchor\" id=\"PreprocessingVisuals\"></a>"
   ]
  },
  {
   "cell_type": "code",
   "execution_count": 7,
   "metadata": {
    "scrolled": true
   },
   "outputs": [],
   "source": [
    "df_BrandFormCountTotals = df_reviews['BrandForm'].value_counts()\n",
    "df_BrandFormCountTotals = df_BrandFormCountTotals.reset_index()\n",
    "df_BrandFormCountTotals.columns=[\"BrandForm\",\"BF_Cnt\"]\n",
    "\n",
    "df_BrandFormCountTotals1 = df_reviews['BrandForm'].value_counts(normalize=True)\n",
    "df_BrandFormCountTotals1 = df_BrandFormCountTotals1.reset_index()\n",
    "df_BrandFormCountTotals1.columns=[\"BrandForm\",\"BF_Freq\"]\n",
    "\n",
    "\n",
    "df_BrandFormCountTotals\n",
    "df_reviews = df_reviews.merge(df_BrandFormCountTotals, on='BrandForm')\n",
    "df_reviews = df_reviews.merge(df_BrandFormCountTotals1, on='BrandForm')\n",
    "#df_reviews.head(1)"
   ]
  },
  {
   "cell_type": "code",
   "execution_count": 8,
   "metadata": {},
   "outputs": [],
   "source": [
    "data = {'BrandForm': ['ImpossiblePatty','IncogmeatoPatty','ImpossibleBrick','BeyondBrick','BeyondPatty'],\n",
    "        'Order': [1,2,3,4,5]\n",
    "        }\n",
    "\n",
    "df_order = pd.DataFrame(data, columns = ['BrandForm', 'Order'])"
   ]
  },
  {
   "cell_type": "code",
   "execution_count": 9,
   "metadata": {},
   "outputs": [],
   "source": [
    "df_reviews_ByBrand = df_reviews[[\"BrandForm\",\"Sent\", 'BF_Cnt']].groupby(['BrandForm', 'Sent', 'BF_Cnt'])[['Sent']].count()\n",
    "df_reviews_ByBrand = df_reviews_ByBrand.stack().reset_index()\n",
    "df_reviews_ByBrand.drop(columns=[\"level_3\"], inplace=True)\n",
    "df_reviews_ByBrand.columns=[\"BrandForm\",\"Sent\",\"BF_Cnt\", \"Sent_Cnt\"]\n",
    "df_reviews_ByBrand['Sent_Freq'] = df_reviews_ByBrand['Sent_Cnt']/df_reviews_ByBrand['BF_Cnt']\n",
    "df_reviews_ByBrand = df_reviews_ByBrand.merge(df_order, on='BrandForm')\n",
    "# df_reviews_ByBrand"
   ]
  },
  {
   "cell_type": "code",
   "execution_count": 10,
   "metadata": {},
   "outputs": [
    {
     "data": {
      "image/png": "[encoded data removed]",
      "text/plain": [
       "<Figure size 1080x216 with 1 Axes>"
      ]
     },
     "metadata": {
      "needs_background": "light"
     },
     "output_type": "display_data"
    }
   ],
   "source": [
    "plotReviews(df_BrandFormCountTotals)"
   ]
  },
  {
   "cell_type": "code",
   "execution_count": 11,
   "metadata": {
    "scrolled": false
   },
   "outputs": [
    {
     "data": {
      "image/png": "[encoded data removed]",
      "text/plain": [
       "<Figure size 1080x144 with 1 Axes>"
      ]
     },
     "metadata": {
      "needs_background": "light"
     },
     "output_type": "display_data"
    }
   ],
   "source": [
    "reviewSentimentByBrand_MutliClass()"
   ]
  },
  {
   "cell_type": "code",
   "execution_count": 12,
   "metadata": {},
   "outputs": [
    {
     "name": "stdout",
     "output_type": "stream",
     "text": [
      " Number of Positive Reviews: 2565\n",
      " Number of Negative Reviews: 388\n",
      " Percent Negative Reviews = : 15.0%\n"
     ]
    }
   ],
   "source": [
    "df_reviews_PC = df_reviews[df_reviews[\"Class\"]==0]\n",
    "df_reviews_NC = df_reviews[df_reviews[\"Class\"]==1]\n",
    "print(f' Number of Positive Reviews: {len(df_reviews_PC)}')\n",
    "print(f' Number of Negative Reviews: {len(df_reviews_NC)}')\n",
    "print(f' Percent Negative Reviews = : {round(100*(len(df_reviews_NC)/len(df_reviews_PC)),0)}%')"
   ]
  },
  {
   "cell_type": "markdown",
   "metadata": {},
   "source": [
    "## Initial Word Count Analysis"
   ]
  },
  {
   "cell_type": "code",
   "execution_count": 13,
   "metadata": {},
   "outputs": [
    {
     "name": "stdout",
     "output_type": "stream",
     "text": [
      "Number of words in corpus: 627286\n",
      "Number of unique words in corpus: 4433\n"
     ]
    }
   ],
   "source": [
    "# Get Stats on corpus\n",
    "entire_corpus = \" \".join(df_reviews[\"TextClean\"])\n",
    "numberOfwords = len(entire_corpus)\n",
    "print(f'Number of words in corpus: {numberOfwords}')\n",
    "\n",
    "unique_words = set(word_tokenize(entire_corpus))\n",
    "numberOfUniqueWords = len(unique_words)\n",
    "print(f'Number of unique words in corpus: {numberOfUniqueWords}')\n",
    "\n",
    "\n",
    "# creates a dictionary so you can get count by word ex. {'3': 149,'g': 55,'i\n",
    "counter = Counter(word_tokenize(entire_corpus))\n",
    "df_From_Dict_MostCommonwords =  pd.DataFrame(counter.most_common(),columns=['words', 'count'])\n",
    "df_From_Dict_MostCommonwords_sorted = df_From_Dict_MostCommonwords.sort_values(by='count', ascending=False)"
   ]
  },
  {
   "cell_type": "markdown",
   "metadata": {},
   "source": [
    "# Normalization, Bigram - Trigram Creation <a class=\"anchor\" id=\"BiGGramTriGrams1\"></a>"
   ]
  },
  {
   "cell_type": "markdown",
   "metadata": {},
   "source": [
    "## Interation 1"
   ]
  },
  {
   "cell_type": "code",
   "execution_count": 14,
   "metadata": {},
   "outputs": [],
   "source": [
    "# df_reviews[\"TextClean2\"] = df_reviews[\"TextClean1\"]\n",
    "df_reviews[\"TextClean2\"] = df_reviews[\"TextClean\"]\n",
    "# di = {\"searchingfor\":\"changeto\"}\n",
    "\n",
    "di = {\"burgers\":\"burger\", \"goodd\":\"good\", \" eco \":\" environment \",\n",
    "     \" ok \":\" okay \", \" son \":\" family \", \" prep \": \" preparation \",\n",
    "     \" oz \":\" ounce \", \n",
    "      \" sub \": \" substitute \",\" substituted \": \" substitute \",\n",
    "     \" substitutes \": \" substitute \", \" substitution \": \" substitute \" ,\n",
    "     \" seasoned \": \" seasoning \", \" seasonings \": \" seasoning \", \n",
    "      \" seasons \": \" seasoning \" , \" fav \": \" favorite \", \" expectations \":\" expectation \",\n",
    "      \" expected \": \" expectation \", \" expecting \" : \" expectation \", \n",
    "      \" expects \": \" expectation \", \" replace \": \" substitute \",\"imitation\": \"fake\", \n",
    "      \" switching \": \" changing \" , \n",
    "      \" anit \": \" against \", \" sear \": \" cook \" , \" imitate \":\" fake \", \n",
    "      \" dog \": \" pet \", \" doggie \": \" pet \", \" dogs \": \" pet \",\n",
    "      \" cat \": \" pet \", \" cats \": \" pet \", \" lb \": \" pound \", \" kid \": \" family \",\n",
    "      \"kidding\": \"joke\", \" def \": \" definitely \", \"garlic powder\":\"seasonings\", \n",
    "      \"onion poweder\":\"seasonings\",\"worcestershire\":'seasonings', 'pickle':'toppings',\n",
    "      'mayonnaise':'toppings', 'smells': 'smell', 'trash':'garbage', 'gross':'bad', \n",
    "      ' george foreman ':' cook ', 'mimic':'similar'\n",
    "     }\n",
    "\n",
    "df_reviews[\"TextClean2\"].replace(di, inplace=True, regex=True)\n",
    "\n",
    "\n",
    "#******* Load NOrmalization File *******\n",
    "df_keywordDict = pd.read_excel(\"./data/qry_Export_KeyWordDict.xlsx\")\n",
    "dct  = dict(zip(df_keywordDict.searchfor, df_keywordDict.changeTo))\n",
    "df_reviews[\"TextClean2\"].replace(dct, inplace=True, regex=True)"
   ]
  },
  {
   "cell_type": "code",
   "execution_count": 15,
   "metadata": {},
   "outputs": [],
   "source": [
    "di = {\"substitutes\":\"substitute\", \"meatballss\" :\"meatballs\",  \"toppingss\":\"toppings\", \n",
    "      \"inexpensiveer\":\"inexpensive\", \"thankfuls\":\"thankful\" , \"goodly\" : \"good\",\n",
    "      \" info \": \" information \"\n",
    "     }\n",
    "df_reviews[\"TextClean2\"].replace(di, inplace=True, regex=True)"
   ]
  },
  {
   "cell_type": "code",
   "execution_count": 16,
   "metadata": {},
   "outputs": [
    {
     "name": "stdout",
     "output_type": "stream",
     "text": [
      "Number of words in corpus: 614437\n",
      "Number of unique words in corpus: 3937\n"
     ]
    }
   ],
   "source": [
    "entire_corpus = \" \".join(df_reviews[\"TextClean2\"])\n",
    "numberOfwords = len(entire_corpus)\n",
    "print(f'Number of words in corpus: {numberOfwords}')\n",
    "\n",
    "unique_words = set(word_tokenize(entire_corpus))\n",
    "numberOfUniqueWords = len(unique_words)\n",
    "print(f'Number of unique words in corpus: {numberOfUniqueWords}')\n",
    "\n",
    "\n",
    "# creates a dictionary so you can get count by word ex. {'3': 149,'g': 55,'i\n",
    "counter = Counter(word_tokenize(entire_corpus))\n",
    "df_From_Dict_MostCommonwords =  pd.DataFrame(counter.most_common(),columns=['words', 'count'])\n",
    "df_From_Dict_MostCommonwords_sorted = df_From_Dict_MostCommonwords.sort_values(by='count', ascending=False)\n",
    "#df_From_Dict_MostCommonwords_sorted"
   ]
  },
  {
   "cell_type": "markdown",
   "metadata": {},
   "source": [
    "## Iteration 2"
   ]
  },
  {
   "cell_type": "code",
   "execution_count": 17,
   "metadata": {},
   "outputs": [],
   "source": [
    "\n",
    "di = {'impossible burger':'impossible_burger', 'burger burgers':'burger', 'burger burger':'burger',\n",
    "      'made from plants':'made_from_plants', 'made from':'made_from',\n",
    "     'taste like':'taste_like', 'tasted like':'taste_like',\n",
    "      'taste good':'taste_good',  'tastes like':'taste_like','morning star':'morningstar',\n",
    "      'taste bad':'taste_bad', 'smell like':'smell_like','smell bad':'smell_bad',\n",
    "      'look like':'look_like','looks like':'look_like', 'looks bad':'look_bad',\n",
    "      ''\n",
    "      ' on par ':' similar ', 'onpar':'similar','thrilled':'excited',\n",
    "      \n",
    "      'feel like': 'feel_like','feels like': 'feel_like','cannot stand': 'bad',\n",
    "      \n",
    "      'plant based':'plant_based', 'good good':'good', 'real meat':'red_meat',\n",
    "    'impossible_burger made_from_plants':'impossible_burger_made_from_plants',\n",
    "   \n",
    "      \n",
    "      'bad taste':'taste_bad', 'veggie burger':'veggie_burger', \n",
    "     'red meat': 'red_meat', 'ground beef':'red_meat', 'beyond meat':'beyond_meat', 'beyond burger':'beyond meat',\n",
    "     'regular burger':'red_meat', 'real beef':'red_meat', 'real thing':'red meat', 'good good':'good',\n",
    "      ' burgers ':' burger ', 'goodd':'good', 'buying':'purchase',' buy ':' purchase ','chipotle':'seasonings',\n",
    "      'ideal':'good', 'foreman':'cook', 'charred':'cook', 'omg':'good', 'after taste':'aftertaste', 'steep':'expensive',\n",
    "      'downside':'bad', 'taste buds':'taste_buds',  'sloppy joe':'sloppy_joe', 'game changer':'good', \n",
    "      'fall apart':'fall_apart','waste':'expensive','alright':'okay', 'exact':'similar', 'no idea':'no_idea',\n",
    "      'any idea':'no_idea', 'decent':'okay', 'bright red':'bright_red', 'goodrs': 'good', 'funny smell': 'bad smell',\n",
    "      'after tase':'after taste', 'smell funny':'bad smell', 'convenience':'convenient', 'dry ice':'dryice', \n",
    "      ' yum ':' good ','unsure':'scared', 'red_meat':'beef', 'vegans':'vegan','aroma':'smell','at least':'at_least',\n",
    "      'ground chuck':'ground_beef', 'grocery store':'grocery_store', ' hate ': ' bad ', 'nonmeat':'vegetarian',\n",
    "      'outstanding':'good', ' crap ':' bad ', 'glad':'happy', 'poop':'bad', ' crisp ':' crispy ', ' mush ':' bad ',\n",
    "      'meatless monday':  'meatless_monday', 'thank you':'thank_you', 'normal burger':'beef_burger',' fine ': ' okay ',\n",
    "      'meat lover':'meat_lover', 'beef lover':'meat_lover', 'crumbled apart':'crumble_apart',\n",
    "      'fallin apart':'crumble_apart','falling apart':'crumble_apart',\n",
    "      'broken apart':'crumble_apart', 'fall apart':'crumble_apart',' love ': ' good ', 'ground meat':'ground_beef',\n",
    "      'consume':'eat', 'black bean':'black_bean', 'phenomenal':'good', \n",
    "      'mouth feel':'mouth_feel', 'stay away':'stay_away', 'no guilt':'guilt_free', 'guilt free':'guilt_free'\n",
    "\n",
    "      \n",
    "     \n",
    "     }\n",
    "\n",
    "df_reviews[\"TextClean2\"].replace(di, inplace=True, regex=True)"
   ]
  },
  {
   "cell_type": "code",
   "execution_count": 18,
   "metadata": {},
   "outputs": [],
   "source": [
    "di = {'impossible_burger made_from_plants':'impossible_burger_made_from_plants',\n",
    "     'burger made_from_plants':'burger_made_from_plants'}\n",
    "\n",
    "df_reviews[\"TextClean2\"].replace(di, inplace=True, regex=True)"
   ]
  },
  {
   "cell_type": "code",
   "execution_count": 19,
   "metadata": {},
   "outputs": [],
   "source": [
    "one_Giant_Corpus_From_DF = \" \".join(df_reviews[\"TextClean2\"])\n",
    "\n",
    "token = nltk.word_tokenize(one_Giant_Corpus_From_DF)\n",
    "# bigrams = ngrams(token,2)\n",
    "# trigrams = ngrams(token,3)\n",
    "# fourgrams = ngrams(token,4)\n",
    "# fivegrams = ngrams(token,5)\n",
    "# print(Counter(bigrams))\n",
    "brigramcounts = pd.Series(ngrams(token,2)).value_counts()\n",
    "# brigramcounts.reset_index()"
   ]
  },
  {
   "cell_type": "code",
   "execution_count": 20,
   "metadata": {},
   "outputs": [],
   "source": [
    "brigramcounts = brigramcounts.to_frame()\n",
    "brigramcounts.reset_index(inplace=True)\n",
    "brigramcounts.columns =[\"words\",\"count\"]\n",
    "di = {i[0] + ' ' + i[1] : i[0] + '_' + i[1] for i in brigramcounts['words']}\n",
    "df_di = pd.DataFrame(di.items(), columns=['searchFor', 'changeto'])\n",
    "\n",
    "framesToconcatenate = [df_di, brigramcounts]\n",
    "df_bygramsToreview = pd.concat(framesToconcatenate, ignore_index=True, axis=1)\n",
    "df_bygramsToreview.columns=['searchFor', 'changeto', 'set', 'count']\n",
    "df_bygramsToreview['dictionary'] = pd.Series(di).values\n",
    "# df_bygramsToreview.to_excel(\"df_bygramsToreview.xlsx\")"
   ]
  },
  {
   "cell_type": "code",
   "execution_count": 21,
   "metadata": {
    "scrolled": true
   },
   "outputs": [
    {
     "name": "stdout",
     "output_type": "stream",
     "text": [
      "Number of words in corpus: 614437\n",
      "Number of unique words in corpus: 3950\n"
     ]
    }
   ],
   "source": [
    "entire_corpus1 = \" \".join(df_reviews[\"TextClean2\"])\n",
    "numberOfwords = len(entire_corpus)\n",
    "print(f'Number of words in corpus: {numberOfwords}')\n",
    "\n",
    "unique_words = set(word_tokenize(entire_corpus1))\n",
    "numberOfUniqueWords = len(unique_words)\n",
    "print(f'Number of unique words in corpus: {numberOfUniqueWords}')\n",
    "\n",
    "# creates a dictionary so you can get count by word ex. {'3': 149,'g': 55,'i\n",
    "counter = Counter(word_tokenize(entire_corpus1))\n",
    "df_From_Dict_MostCommonwords1 =  pd.DataFrame(counter.most_common(),columns=['words', 'count'])\n",
    "df_From_Dict_MostCommonwords_sorted1 = df_From_Dict_MostCommonwords1.sort_values(by='count', ascending=False)\n",
    "#df_From_Dict_MostCommonwords_sorted1"
   ]
  },
  {
   "cell_type": "code",
   "execution_count": null,
   "metadata": {},
   "outputs": [],
   "source": []
  },
  {
   "cell_type": "markdown",
   "metadata": {},
   "source": [
    "# Remove Irrelevant / Consolidate words <a class=\"anchor\" id=\"RemoveConsolidateWOrds\"></a>"
   ]
  },
  {
   "cell_type": "code",
   "execution_count": 22,
   "metadata": {},
   "outputs": [],
   "source": [
    "def RemoveGarbageWords1(text):\n",
    "    \"\"\"Removes Garbage words\"\"\"\n",
    "    listofgarbagewords = [\n",
    "                          \n",
    "                          'impossible_burger_made_from_plants','impossible_burger', 'beyond_burger',\n",
    "                            'plant_based', 'eat', 'beyond_meat',\n",
    "                          \n",
    "                          'received_free_sample','coupon_from_pinchme',\n",
    "                         'person','around','upon' ,'alone', 'follow', 'since',\n",
    "                         'oh', 'literally', 'willing' ,'bring', 'several', 'eye', 'hear', 'maybe',\n",
    "                         'couple', 'behind', 'keep', 'probably', 'someone', 'fully', 'honestly', 'anything',\n",
    "                         'arrive', 'party', 'law', 'brother', 'sister', 'mother', 'man', ' hour ',\n",
    "                         'bought', 'unless', 'do', 'may', 'due', 'call', 'properly','ha', 'smokey',\n",
    "                          'edge', 'attention', 'forward', 'mind', 'although', 'yet', 'slap', 'little',\n",
    "                          'fairly', 'somewhat', 'area','mind', 'ask', 'pretty','always', 'four',\n",
    "                          'obviously', 'basically', 'sit', 'hours', ' need ', 'needed', 'point', \n",
    "                          'got', 'back', 'bonus', 'check', 'bother', 'lately', 'lent', 'pinchme',\n",
    "                          \n",
    "                          'i','me','my','myself','we','our','ours','ourselves','you',\"you're\",\n",
    "                           \"you've\",\"you'll\",\"you'd\",'your','yours','yourself','yourselves','he',\n",
    "                          'him','his','himself','she',\"she's\",'her','hers','herself','it',\"it's\",\n",
    "                          'its','itself','they','them','their','theirs','themselves',\n",
    "                           'what','which','who','whom','this','that',\"that'll\",'these','those',\n",
    "                          'am','is','are','was','were',\n",
    "                           'be','been','being','has','had','having','do','does','did','doing',\n",
    "                          'a','an','the','and',\n",
    "                           'but','if','or','because','as','until','while','of','at','by','for',\n",
    "                          'about','against','between',\n",
    "                           'into','through','during','before','after','above','below','to','up',\n",
    "                          'down','in','out','on',\n",
    "                           'off','over','under','again','further','then','once','here','there',\n",
    "                          'when','where','why','how',\n",
    "                           'all','any','both','each','few','more','most','other','some','such',\n",
    "                          'nor','not','only','own',\n",
    "                           'same','so','than','too','very','s','t','will','just','would','with','from', 'this', 'made',\n",
    "                           'they','that', 'them', 'received_free',\n",
    "\n",
    "                           'impossible_burger','have', 'could', 'beyond', 'impossible', 'incogmeato', 'now', 'year', \n",
    "                          'krogers',\n",
    "                           'target', 'walmart', 'kroger', 'oz', '4', '4oz', '8oz', 'plant', '2', \n",
    "                          'impossible_burgers', 'buy','well',\n",
    "                           'buger_patties_made_from_plants','also', 'buger_burger_made_from_plants', \n",
    "                          'product', 'even', \n",
    "                           'say', 'buying', 'purchase',\n",
    "\n",
    "                           'able', ' can ','get', 'give', 'really', 'two', 'well', 'pan', \n",
    "                          'seriously', 'indian', \n",
    "                           'today','forever', \n",
    "\n",
    "                           'lb', 'flat', 'weekend', 'personal', 'personallly', 'took', \n",
    "                          'opportunity', 'whether',\n",
    "                           'totally','chance', 'star', 'rest', 'mom', 'mean', 'night', \n",
    "                          ' can ', 'b', 'hardly',\n",
    "                           'hey', 'five', 'boyfriend', 's', 'tried', 'try', 'much', 'one',\n",
    "                          'trying', 'first', 'thought', 'still', 'bit', 'husband', 'ever',\n",
    "                          'something', 'want', 'go', 'believe', 'sure', 'way', 'never','review','find','&'\n",
    "                          'new', 'started', 'stars', 'con', 'turned', 'afterwards', 'result', 'carl jr',\n",
    "                          'wise', 'local', 'otherwise', 'u', 'do', 'take', 'interesting', 'heard', 'called',\n",
    "                          'currently', 'hopefully', 'certain', 'god', 'certainly', 'anticipated', 'indeed',\n",
    "                          'partner', 'cup', 'reminiscent', 'hot', 'giving', 'paired', 'sort', 'customer',\n",
    "                          'going', 'ask', 'initially', 'side', 'careful', 'preferred', 'charbroiled',\n",
    "                          'competitor', 'update', 'thoughts', 'watch','blow', 'one', 'second', 'stuff', 'darn',\n",
    "                          'dollar', 'large', 'benefit', 'dollars', 'please', 'take', 'deal', 'goes',\n",
    "                          'reviews', 'within', 'pick', 'definitely', 'well', 'eat', 'think','offer','pleased',\n",
    "                          'spend', 'response', 'respond', 'post', 'choose', 'direction', 'blue', 'makes', 'make',\n",
    "                          'actually', 'know', 'use', 'used', 'many', 'new', 'almost', 'cannot', 'didnot', 'donot',\n",
    "                          'consider', 'considering','considers','grams', 're', 'direction', 'carl','entirely', 'tummy', 'arrive','remember',\n",
    "                          'thankful', 'aware', 'boy', 'sadly', 'double', ' things ', 'a_lot', 'content', 'straight',\n",
    "                          'multiple', 'folk', 'impression', 'insanely', 'swear', 'bits', 'cover', 'portion',\n",
    "                          'nice', 'slightly','come', ' thing ', 'whatever', 'initial', 'should', 'rather', 'piece',\n",
    "                          'sugar', 'different', 'cause', 'folks',\n",
    "        \n",
    "        \n",
    "                            'i','me','my','myself','we','our','ours','ourselves','you',\"you're\",\n",
    "                           \"you've\",\"you'll\",\"you'd\",'your','yours','yourself','yourselves','he',\n",
    "                          'him','his','himself','she',\"she's\",'her','hers','herself','it',\"it's\",\n",
    "                          'its','itself','they','them','their','theirs','themselves',\n",
    "                           'what','which','who','whom','this','that',\"that'll\",'these','those',\n",
    "                          'am','is','are','was','were',\n",
    "                           'be','been','being','has','had','having','do','does','did','doing',\n",
    "                          'a','an','the','and',\n",
    "                           'but','if','or','because','as','until','while','of','at','by','for',\n",
    "                          'about','against','between',\n",
    "                           'into','through','during','before','after','above','below','to','up',\n",
    "                          'down','in','out','on',\n",
    "                           'off','over','under','again','further','then','once','here','there',\n",
    "                          'when','where','why','how',\n",
    "                           'all','any','both','each','few','more','most','other','some','such',\n",
    "                          'nor','not','only','own',\n",
    "                           'same','so','than','too','very','s','t','will','just','would','with', 'this',\n",
    "                           'they','that', 'them', 'received_free','have','ever', \n",
    "                            #'real', 'regular',\n",
    "                            'pleasantly','definitely', 'highly', 'absolutely', 'products','pretty','product',\n",
    "                            'really', 'very', 'exactly', 'much', 'anywhere', 'aside', 'arrive', 'likely','except',\n",
    "                            'everything', 'yes', 'matter', 'made_from_plants', 'absolute', 'party','burger','morningstar',\n",
    "                            'wrapped',\n",
    "                            'consumer','american', 'load', 'thin', 'butter','avoid', 'whoever',\n",
    "                            'went', 'anymore','job', 'following', 'iron', 'g', 'lol', 'last', 'near','thaw', 'at_least',\n",
    "                            'slice', 'grocery_store','burger_made_from_plants','made_from', \n",
    "        \n",
    "                          \n",
    "                  ]        \n",
    "    \n",
    "    listofgarbagewords1 = ' '.join([i for i in text.split() if i not in listofgarbagewords])\n",
    "    return listofgarbagewords1\n",
    "\n",
    "\n",
    "df_reviews[\"TextClean3\"] = df_reviews[\"TextClean2\"].apply(RemoveGarbageWords1)"
   ]
  },
  {
   "cell_type": "code",
   "execution_count": 23,
   "metadata": {
    "scrolled": false
   },
   "outputs": [],
   "source": [
    "# df_reviews_Find = df_reviews[df_reviews['TextClean4'].str.contains(\" definitelyinitely \")][['Text','TextClean4']]\n",
    "# df_reviews_Find\n",
    "# df_reviews_Find"
   ]
  },
  {
   "cell_type": "code",
   "execution_count": 24,
   "metadata": {},
   "outputs": [],
   "source": [
    "# Get Stats on corpus\n",
    "entire_corpus1 = \" \".join(df_reviews[\"TextClean3\"])\n",
    "\n",
    "# creates a dictionary so you can get count by word ex. {'3': 149,'g': 55,'i\n",
    "counter = Counter(word_tokenize(entire_corpus1))\n",
    "df_From_Dict_MostCommonwords1 =  pd.DataFrame(counter.most_common(),columns=['words', 'count'])\n",
    "df_From_Dict_MostCommonwords_sorted1 = df_From_Dict_MostCommonwords1.sort_values(by='count', ascending=False)\n",
    "# df_From_Dict_MostCommonwords_sorted1.tail(100)"
   ]
  },
  {
   "cell_type": "markdown",
   "metadata": {},
   "source": [
    "# Lemmatization <a class=\"anchor\" id=\"lemmatization\"></a>"
   ]
  },
  {
   "cell_type": "code",
   "execution_count": 25,
   "metadata": {},
   "outputs": [],
   "source": [
    "df_reviews[\"TextClean4\"] = df_reviews[\"TextClean3\"]\n",
    "df_reviews[\"TextClean4\"] = removewordswithcertainCount2(df_reviews[\"TextClean4\"], 3)"
   ]
  },
  {
   "cell_type": "code",
   "execution_count": 26,
   "metadata": {},
   "outputs": [],
   "source": [
    "df_reviews['TextClean4'] = df_reviews['TextClean4'].apply(lemmatization)"
   ]
  },
  {
   "cell_type": "code",
   "execution_count": 27,
   "metadata": {},
   "outputs": [
    {
     "name": "stdout",
     "output_type": "stream",
     "text": [
      "Number of words in corpus: 213478\n",
      "Number of unique words in corpus: 833\n"
     ]
    }
   ],
   "source": [
    "# Get Stats on corpus\n",
    "entire_corpus = \" \".join(df_reviews[\"TextClean4\"])\n",
    "numberOfwords = len(entire_corpus)\n",
    "print(f'Number of words in corpus: {numberOfwords}')\n",
    "\n",
    "unique_words = set(word_tokenize(entire_corpus))\n",
    "numberOfUniqueWords = len(unique_words)\n",
    "print(f'Number of unique words in corpus: {numberOfUniqueWords}')"
   ]
  },
  {
   "cell_type": "code",
   "execution_count": 28,
   "metadata": {
    "scrolled": true
   },
   "outputs": [
    {
     "name": "stdout",
     "output_type": "stream",
     "text": [
      "number of rows prior to deleting rows: 2953\n",
      "number of rows after deleting rows: 1815\n"
     ]
    }
   ],
   "source": [
    "# Remove rows that have less than 3 words\n",
    "df_reviews['count'] = df_reviews['TextClean4'].str.count(' ') + 1\n",
    "print(f'number of rows prior to deleting rows: {len(df_reviews)}')\n",
    "      \n",
    "df_reviews = df_reviews[df_reviews['count']>6]\n",
    "\n",
    "print(f'number of rows after deleting rows: {len(df_reviews)}')"
   ]
  },
  {
   "cell_type": "code",
   "execution_count": 29,
   "metadata": {},
   "outputs": [],
   "source": [
    "# Get Stats on corpus\n",
    "entire_corpus1 = \" \".join(df_reviews[\"TextClean4\"])\n",
    "\n",
    "# creates a dictionary so you can get count by word ex. {'3': 149,'g': 55,'i\n",
    "counter = Counter(word_tokenize(entire_corpus1))\n",
    "df_From_Dict_MostCommonwords1 =  pd.DataFrame(counter.most_common(),columns=['words', 'count'])\n",
    "df_From_Dict_MostCommonwords_sorted1 = df_From_Dict_MostCommonwords1.sort_values(by='count', ascending=False)\n",
    "#df_From_Dict_MostCommonwords_sorted1.tail(100)"
   ]
  },
  {
   "cell_type": "code",
   "execution_count": 30,
   "metadata": {},
   "outputs": [],
   "source": [
    "def RemoveGarbageWords1(text):\n",
    "    \"\"\"Removes Garbage words\"\"\"\n",
    "    listofgarbagewords = [\n",
    "                          \n",
    "                          'impossible_burger_made_from_plants','impossible_burger', 'beyond_burger',\n",
    "                            'plant_based', 'eat', 'beyond_meat',\n",
    "                          \n",
    "                          'received_free_sample','coupon_from_pinchme',\n",
    "                         'person','around','upon' ,'alone', 'follow', 'since',\n",
    "                         'oh', 'literally', 'willing' ,'bring', 'several', 'eye', 'hear', 'maybe',\n",
    "                         'couple', 'behind', 'keep', 'probably', 'someone', 'fully', 'honestly', 'anything',\n",
    "                         'arrive', 'party', 'law', 'brother', 'sister', 'mother', 'man', ' hour ',\n",
    "                         'bought', 'unless', 'do', 'may', 'due', 'call', 'properly','ha', 'smokey',\n",
    "                          'edge', 'attention', 'forward', 'mind', 'although', 'yet', 'slap', 'little',\n",
    "                          'fairly', 'somewhat', 'area','mind', 'ask', 'pretty','always', 'four',\n",
    "                          'obviously', 'basically', 'sit', 'hours', ' need ', 'needed', 'point', \n",
    "                          'got', 'back', 'bonus', 'check', 'bother', 'lately', 'lent', 'pinchme',\n",
    "                          \n",
    "                          'i','me','my','myself','we','our','ours','ourselves','you',\"you're\",\n",
    "                           \"you've\",\"you'll\",\"you'd\",'your','yours','yourself','yourselves','he',\n",
    "                          'him','his','himself','she',\"she's\",'her','hers','herself','it',\"it's\",\n",
    "                          'its','itself','they','them','their','theirs','themselves',\n",
    "                           'what','which','who','whom','this','that',\"that'll\",'these','those',\n",
    "                          'am','is','are','was','were',\n",
    "                           'be','been','being','has','had','having','do','does','did','doing',\n",
    "                          'a','an','the','and',\n",
    "                           'but','if','or','because','as','until','while','of','at','by','for',\n",
    "                          'about','against','between',\n",
    "                           'into','through','during','before','after','above','below','to','up',\n",
    "                          'down','in','out','on',\n",
    "                           'off','over','under','again','further','then','once','here','there',\n",
    "                          'when','where','why','how',\n",
    "                           'all','any','both','each','few','more','most','other','some','such',\n",
    "                          'nor','not','only','own',\n",
    "                           'same','so','than','too','very','s','t','will','just','would','with','from', 'this', 'made',\n",
    "                           'they','that', 'them', 'received_free',\n",
    "\n",
    "                           'impossible_burger','have', 'could', 'beyond', 'impossible', 'incogmeato', 'now', 'year', \n",
    "                          'krogers',\n",
    "                           'target', 'walmart', 'kroger', 'oz', '4', '4oz', '8oz', 'plant', '2', \n",
    "                          'impossible_burgers', 'buy','well',\n",
    "                           'buger_patties_made_from_plants','also', 'buger_burger_made_from_plants', \n",
    "                          'product', 'even', \n",
    "                           'say', 'buying', 'purchase',\n",
    "\n",
    "                           'able', ' can ','get', 'give', 'really', 'two', 'well', 'pan', \n",
    "                          'seriously', 'indian', \n",
    "                           'today','forever', \n",
    "\n",
    "                           'lb', 'flat', 'weekend', 'personal', 'personallly', 'took', \n",
    "                          'opportunity', 'whether',\n",
    "                           'totally','chance', 'star', 'rest', 'mom', 'mean', 'night', \n",
    "                          ' can ', 'b', 'hardly',\n",
    "                           'hey', 'five', 'boyfriend', 's', 'tried', 'try', 'much', 'one',\n",
    "                          'trying', 'first', 'thought', 'still', 'bit', 'husband', 'ever',\n",
    "                          'something', 'want', 'go', 'believe', 'sure', 'way', 'never','review','find','&'\n",
    "                          'new', 'started', 'stars', 'con', 'turned', 'afterwards', 'result', 'carl jr',\n",
    "                          'wise', 'local', 'otherwise', 'u', 'do', 'take', 'interesting', 'heard', 'called',\n",
    "                          'currently', 'hopefully', 'certain', 'god', 'certainly', 'anticipated', 'indeed',\n",
    "                          'partner', 'cup', 'reminiscent', 'hot', 'giving', 'paired', 'sort', 'customer',\n",
    "                          'going', 'ask', 'initially', 'side', 'careful', 'preferred', 'charbroiled',\n",
    "                          'competitor', 'update', 'thoughts', 'watch','blow', 'one', 'second', 'stuff', 'darn',\n",
    "                          'dollar', 'large', 'benefit', 'dollars', 'please', 'take', 'deal', 'goes',\n",
    "                          'reviews', 'within', 'pick', 'definitely', 'well', 'eat', 'think','offer','pleased',\n",
    "                          'spend', 'response', 'respond', 'post', 'choose', 'direction', 'blue', 'makes', 'make',\n",
    "                          'actually', 'know', 'use', 'used', 'many', 'new', 'almost', 'cannot', 'didnot', 'donot',\n",
    "                          'consider', 'considering','considers','grams', 're', 'direction', 'carl','entirely', 'tummy', 'arrive','remember',\n",
    "                          'thankful', 'aware', 'boy', 'sadly', 'double', ' things ', 'a_lot', 'content', 'straight',\n",
    "                          'multiple', 'folk', 'impression', 'insanely', 'swear', 'bits', 'cover', 'portion',\n",
    "                          'nice', 'slightly','come', ' thing ', 'whatever', 'initial', 'should', 'rather', 'piece',\n",
    "                          'sugar', 'different', 'cause', 'folks',\n",
    "        \n",
    "        \n",
    "                            'i','me','my','myself','we','our','ours','ourselves','you',\"you're\",\n",
    "                           \"you've\",\"you'll\",\"you'd\",'your','yours','yourself','yourselves','he',\n",
    "                          'him','his','himself','she',\"she's\",'her','hers','herself','it',\"it's\",\n",
    "                          'its','itself','they','them','their','theirs','themselves',\n",
    "                           'what','which','who','whom','this','that',\"that'll\",'these','those',\n",
    "                          'am','is','are','was','were',\n",
    "                           'be','been','being','has','had','having','do','does','did','doing',\n",
    "                          'a','an','the','and',\n",
    "                           'but','if','or','because','as','until','while','of','at','by','for',\n",
    "                          'about','against','between',\n",
    "                           'into','through','during','before','after','above','below','to','up',\n",
    "                          'down','in','out','on',\n",
    "                           'off','over','under','again','further','then','once','here','there',\n",
    "                          'when','where','why','how',\n",
    "                           'all','any','both','each','few','more','most','other','some','such',\n",
    "                          'nor','not','only','own',\n",
    "                           'same','so','than','too','very','s','t','will','just','would','with', 'this',\n",
    "                           'they','that', 'them', 'received_free','have','ever', \n",
    "                            #'real', 'regular',\n",
    "                            'pleasantly','definitely', 'highly', 'absolutely', 'products','pretty','product',\n",
    "                            'really', 'very', 'exactly', 'much', 'anywhere', 'aside', 'arrive', 'likely','except',\n",
    "                            'everything', 'yes', 'matter', 'made_from_plants', 'absolute', 'party','burger','morningstar',\n",
    "                            'wrapped', 'egg', 'mins', 'fries', 'include', 'sweet', 'swiss','sausages','cast', 'menu',\n",
    "                            'powder', 'sloppy_joe' ,'cold','yesterday', 'across', 'bread','king', 'wow','avocado',\n",
    "                            'whopper', 'bunch', 'concept', 'grass', 'spiced','mark', 'kitchen', 'receive',\n",
    "                             'consumer','american', 'load', 'thin', 'butter', 'avoid', 'whoever',\n",
    "                            'went', 'dried', 'idea', 'mayo', 'decide', 'solid', 'regularly', 'honest','simply',\n",
    "                            'exchange', 'stopping', 'general', 'numerous', 'making', 'breakfast','incredibly','ship',\n",
    "                            'name','sample','term', 'figure', 'spoiled', 'forget', 'melt', 'goodness', 'onion',\n",
    "                            'lettuce', 'tomato', 'tomato', 'minute', 'type', 'fixing', 'salad', 'interest', 'eaten', \n",
    "                            'mini', 'occasionally', 'pie', 'sheppard', 'frozen', 'delivery', 'decision','favor', 'shipping',\n",
    "                            'farm', 'bacon', 'solution','fun', 'standard', 'overcook', 'remove','value', 'obsessed',\n",
    "                              'world'  ,'sprout', 'd', 'e', 'beside', 'saw', 'class','nope', 'dr', 'keto', 'thawed',\n",
    "                            'became', 'gets', 'reading', 'dryice', 'liked', 'goodest','dairy', 'shop','along','case',\n",
    "                            'deliver','shopping', 'grocery' ,'entire','crumbleed', 'pound', 'oven', 'mix', 'box', \n",
    "                            'mixed', 'either', 'typically', 'past', 'garlic', 'opinion', 'throw', 'dress', 'char',\n",
    "                            'occasion', 'end', 'mostly', 'potato', 'toppingss', 'head', 'half', 'top', 'anyone', 'home',\n",
    "                            'head', 'stock','together', 'version', 'must', 'rare', 'Thank_you', 'heat', 'month',\n",
    "                            'fry', 'become', 'fact', 'normal', 'available', 'plastic','difficult','mention','limit',\n",
    "                            'possible','hope', 'pre', 'cheese' ,'though', 'wouldnot', 'crazy', 'werenot' 'guess', \n",
    "                            'clean', 'basis', 'experience', 'raw', 'yeah', 'seasoned', 'next', 'ketchup', 'pasta',\n",
    "                            'special','fan', 'instruction', 'ready', 'company', 'slight', 'middle', 'old', 'sell',\n",
    "                            'immediately','strong', 'non', 'stove', 'pack', 'true', 'hadnot', 'later', 'per', 'freeze','thaw',\n",
    "                            'vs', 'turkey', 'genuinely', 'course', 'dish', 'lunch', 'beat', 'boca,','occasional', 'online',\n",
    "                            'barely', 'mushroom', 'taco', 'steak', 'test', 'boca', 'else', 'soon', 'start',\n",
    "                            'repurchase', 'super', 'start', 'freezer', 'fryer', 'air', 'suggest', 'topping', 'thank_you',\n",
    "                            \n",
    "        \n",
    "                            'guy', 'black_bean', 'separate','miss', 'meatless_monday',\n",
    "                            'spaghetti', 'meatball', 'lasagna', 'day', 'tonight', 'kind', 'prefer', 'school',\n",
    "                            'grocery_store', 'mouth', 'extremely','meatloaf', 'couldnot', 'weekly', 'chef','usually',\n",
    "                            'werenot', 'arenot', 'bean', 'summer', 'sausage', 'smoke', \n",
    "        \n",
    "                            'tofu', 'mustard' ]        \n",
    "    \n",
    "    listofgarbagewords1 = ' '.join([i for i in text.split() if i not in listofgarbagewords])\n",
    "    return listofgarbagewords1\n",
    "\n",
    "\n",
    "df_reviews[\"TextClean4\"] = df_reviews[\"TextClean4\"].apply(RemoveGarbageWords1)"
   ]
  },
  {
   "cell_type": "code",
   "execution_count": 31,
   "metadata": {},
   "outputs": [],
   "source": [
    "df_reviews[\"TextClean4\"] = removewordswithcertainCount2(df_reviews[\"TextClean4\"], 5)"
   ]
  },
  {
   "cell_type": "code",
   "execution_count": 32,
   "metadata": {},
   "outputs": [],
   "source": [
    "df_reviewsNegative = df_reviews[df_reviews['Rating']<3]\n",
    "df_reviewsPositive = df_reviews[df_reviews['Rating']>=4]"
   ]
  },
  {
   "cell_type": "code",
   "execution_count": 33,
   "metadata": {},
   "outputs": [
    {
     "name": "stdout",
     "output_type": "stream",
     "text": [
      "Number of words in corpus: 150685\n",
      "Number of unique words in corpus: 366\n"
     ]
    }
   ],
   "source": [
    "entire_corpus = \" \".join(df_reviews[\"TextClean4\"])\n",
    "numberOfwords = len(entire_corpus)\n",
    "print(f'Number of words in corpus: {numberOfwords}')\n",
    "\n",
    "unique_words = set(word_tokenize(entire_corpus))\n",
    "numberOfUniqueWords = len(unique_words)\n",
    "print(f'Number of unique words in corpus: {numberOfUniqueWords}')"
   ]
  },
  {
   "cell_type": "markdown",
   "metadata": {},
   "source": [
    "# Create Pickle Files Pickle <a class=\"anchor\" id=\"Pickle\"></a>"
   ]
  },
  {
   "cell_type": "code",
   "execution_count": 34,
   "metadata": {},
   "outputs": [],
   "source": [
    "#Create Files for Modeling\n",
    "with open('./data/df_reviews_N.pickle', 'wb') as f:\n",
    "    pickle.dump(df_reviewsNegative, f)\n",
    "    \n",
    "#Create Files for Modeling\n",
    "with open('./data/df_reviews_P.pickle', 'wb') as f:\n",
    "    pickle.dump(df_reviewsPositive, f)    \n",
    "\n",
    "\n",
    "#Create Files for Modeling\n",
    "with open('./data/df_reviews.pickle', 'wb') as f:\n",
    "    pickle.dump(df_reviews, f)"
   ]
  },
  {
   "cell_type": "markdown",
   "metadata": {},
   "source": [
    "# Conclusions <a class=\"anchor\" id=\"Conclusions\"></a>"
   ]
  },
  {
   "cell_type": "markdown",
   "metadata": {},
   "source": [
    "Normalized data, removed words went from an initial Number of words in corpus = 614437 and Number of unique words in corpus = 3937 down to Number of words in corpus = 150685 and Number of unique words in corpus = 366"
   ]
  },
  {
   "cell_type": "code",
   "execution_count": null,
   "metadata": {},
   "outputs": [],
   "source": []
  }
 ],
 "metadata": {
  "kernelspec": {
   "display_name": "Python 3",
   "language": "python",
   "name": "python3"
  },
  "language_info": {
   "codemirror_mode": {
    "name": "ipython",
    "version": 3
   },
   "file_extension": ".py",
   "mimetype": "text/x-python",
   "name": "python",
   "nbconvert_exporter": "python",
   "pygments_lexer": "ipython3",
   "version": "3.8.3"
  }
 },
 "nbformat": 4,
 "nbformat_minor": 4
}
